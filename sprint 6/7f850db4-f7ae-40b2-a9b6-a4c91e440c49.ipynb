{
 "cells": [
  {
   "cell_type": "markdown",
   "metadata": {},
   "source": [
    "<font color='blue'> \n",
    "### <u>КОММЕНТАРИЙ РЕВЬЮЕРА</u>\n",
    "</font>\n",
    "\n",
    "<font color='blue'>\n",
    "<br />\n",
    "ДАМИР, рад приветствовать ВАС! <br />\n",
    "<br />    \n",
    "\n",
    "<br />\n",
    "Меня зовут Николай. <br />И на этом этапе Вашего движения к новой профессии от меня будут комментарии по написанному коду. <br />Чтобы меньше \"мусорить эфир\" и чтобы максимально наглядно отделяться от основного кода, есть предложение условиться в некоторых обозначениях:<br /> <br />\n",
    "<u><b>ТАКОЙ ШРИФТ</b></u> - всегда начало комментария <br />\n",
    "<font color='green'>такой шрифт</font> - комментарии о том, что всё ОК <br/>\n",
    "<font color='orange'>такой шрифт</font> - комментарии о том, что всё ОК по результату,<br> однако есть на что обратить внимание в плане применения техник, или есть способы сделать более короткий или быстрый код <br/>\n",
    "<font color='red'>такой шрифт</font> - комментарии о том, что есть критичный момент, влияющий на бизнес-результат проекта.<br/>\n",
    "</font><br /><br />\n",
    "<font color='green'>Моей целью является не \"уличить\" в не знании, а просто высказать сверху Ваших знаний - свой опыт, что бы Вы могли использовать его для Вашего дальнейшего успеха)\n",
    "<br>\n",
    "</font>\n",
    "<br>\n",
    "\n",
    "</font>"
   ]
  },
  {
   "cell_type": "markdown",
   "metadata": {},
   "source": [
    "# Рекомендация тарифов"
   ]
  },
  {
   "cell_type": "markdown",
   "metadata": {},
   "source": [
    "В вашем распоряжении данные о поведении клиентов, которые уже перешли на эти тарифы (из проекта курса «Статистический анализ данных»). Нужно построить модель для задачи классификации, которая выберет подходящий тариф. Предобработка данных не понадобится — вы её уже сделали.\n",
    "\n",
    "Постройте модель с максимально большим значением *accuracy*. Чтобы сдать проект успешно, нужно довести долю правильных ответов по крайней мере до 0.75. Проверьте *accuracy* на тестовой выборке самостоятельно."
   ]
  },
  {
   "cell_type": "markdown",
   "metadata": {},
   "source": [
    "## 1. Откройте и изучите файл"
   ]
  },
  {
   "cell_type": "code",
   "execution_count": 6,
   "metadata": {},
   "outputs": [],
   "source": [
    "from sklearn.model_selection import train_test_split\n",
    "from sklearn.tree import DecisionTreeClassifier\n",
    "from sklearn.ensemble import RandomForestClassifier\n",
    "from sklearn.linear_model import LogisticRegression\n",
    "from sklearn.metrics import accuracy_score\n",
    "import pandas as pd\n",
    "\n"
   ]
  },
  {
   "cell_type": "code",
   "execution_count": 7,
   "metadata": {},
   "outputs": [],
   "source": [
    "data = pd.read_csv('/datasets/users_behavior.csv')\n"
   ]
  },
  {
   "cell_type": "code",
   "execution_count": 9,
   "metadata": {},
   "outputs": [
    {
     "data": {
      "text/plain": [
       "(3214, 5)"
      ]
     },
     "execution_count": 9,
     "metadata": {},
     "output_type": "execute_result"
    }
   ],
   "source": [
    "data.shape"
   ]
  },
  {
   "cell_type": "code",
   "execution_count": 10,
   "metadata": {},
   "outputs": [
    {
     "data": {
      "text/html": [
       "<div>\n",
       "<style scoped>\n",
       "    .dataframe tbody tr th:only-of-type {\n",
       "        vertical-align: middle;\n",
       "    }\n",
       "\n",
       "    .dataframe tbody tr th {\n",
       "        vertical-align: top;\n",
       "    }\n",
       "\n",
       "    .dataframe thead th {\n",
       "        text-align: right;\n",
       "    }\n",
       "</style>\n",
       "<table border=\"1\" class=\"dataframe\">\n",
       "  <thead>\n",
       "    <tr style=\"text-align: right;\">\n",
       "      <th></th>\n",
       "      <th>calls</th>\n",
       "      <th>minutes</th>\n",
       "      <th>messages</th>\n",
       "      <th>mb_used</th>\n",
       "      <th>is_ultra</th>\n",
       "    </tr>\n",
       "  </thead>\n",
       "  <tbody>\n",
       "    <tr>\n",
       "      <td>0</td>\n",
       "      <td>40.0</td>\n",
       "      <td>311.90</td>\n",
       "      <td>83.0</td>\n",
       "      <td>19915.42</td>\n",
       "      <td>0</td>\n",
       "    </tr>\n",
       "    <tr>\n",
       "      <td>1</td>\n",
       "      <td>85.0</td>\n",
       "      <td>516.75</td>\n",
       "      <td>56.0</td>\n",
       "      <td>22696.96</td>\n",
       "      <td>0</td>\n",
       "    </tr>\n",
       "    <tr>\n",
       "      <td>2</td>\n",
       "      <td>77.0</td>\n",
       "      <td>467.66</td>\n",
       "      <td>86.0</td>\n",
       "      <td>21060.45</td>\n",
       "      <td>0</td>\n",
       "    </tr>\n",
       "    <tr>\n",
       "      <td>3</td>\n",
       "      <td>106.0</td>\n",
       "      <td>745.53</td>\n",
       "      <td>81.0</td>\n",
       "      <td>8437.39</td>\n",
       "      <td>1</td>\n",
       "    </tr>\n",
       "    <tr>\n",
       "      <td>4</td>\n",
       "      <td>66.0</td>\n",
       "      <td>418.74</td>\n",
       "      <td>1.0</td>\n",
       "      <td>14502.75</td>\n",
       "      <td>0</td>\n",
       "    </tr>\n",
       "  </tbody>\n",
       "</table>\n",
       "</div>"
      ],
      "text/plain": [
       "   calls  minutes  messages   mb_used  is_ultra\n",
       "0   40.0   311.90      83.0  19915.42         0\n",
       "1   85.0   516.75      56.0  22696.96         0\n",
       "2   77.0   467.66      86.0  21060.45         0\n",
       "3  106.0   745.53      81.0   8437.39         1\n",
       "4   66.0   418.74       1.0  14502.75         0"
      ]
     },
     "execution_count": 10,
     "metadata": {},
     "output_type": "execute_result"
    }
   ],
   "source": [
    "data.head()"
   ]
  },
  {
   "cell_type": "markdown",
   "metadata": {},
   "source": [
    "Датасет состоит из 3 214 объектов и 5 признаков. Целевой признак для нашей задачи – is_ultra, т.е. модель, которую мы попытаемся построить, будет предсказывать значение 1 если клиенту нужно предложить тариф \"Ультра\" или 0 если тариф \"Смарт\". В этом и заключается задача классификации, т.к. наш целевой признак является категориальным."
   ]
  },
  {
   "cell_type": "markdown",
   "metadata": {},
   "source": [
    "## 2. Разбейте данные на выборки"
   ]
  },
  {
   "cell_type": "markdown",
   "metadata": {},
   "source": [
    "Спрятанной тестовой выборки в задании нет, поэтому может разбить исходный набор данных на три части: обучающую, валидационную и тестовую. Размеры тестового и валидационного наборов сделаем равными.\n",
    "\n"
   ]
  },
  {
   "cell_type": "code",
   "execution_count": 12,
   "metadata": {},
   "outputs": [],
   "source": [
    "# Зафиксируем псевдослучайность для всех используемых в проекте алгоритмов\n",
    "rnd_state = 202006"
   ]
  },
  {
   "cell_type": "code",
   "execution_count": 25,
   "metadata": {},
   "outputs": [],
   "source": [
    "# 60% отводим под обучающую выборку\n",
    "df_train, df_valid = train_test_split(data, test_size=0.4, random_state=rnd_state)\n",
    "# половину из оставшихся 40% отдаем на валидационную, другую половину – на тестовую\n",
    "df_valid, df_test = train_test_split(df_valid, test_size=0.5, random_state=rnd_state)\n"
   ]
  },
  {
   "cell_type": "markdown",
   "metadata": {},
   "source": [
    "В итоге получили следующее соотношение: 60% | 20% | 20%\n",
    "\n"
   ]
  },
  {
   "cell_type": "markdown",
   "metadata": {},
   "source": [
    "Чуть позднее, после проверки модели на валидационной выборке выполним оценку ещё и на тестовом наборе. Это позволит правильно оценить готовую модель.\n",
    "\n"
   ]
  },
  {
   "cell_type": "markdown",
   "metadata": {},
   "source": [
    "<font color='blue'><u><b>КОММЕНТАРИЙ РЕВЬЮЕРА</b></u></font><br />\n",
    "<font color='green'>\n",
    "ОК\n",
    "\n",
    "</b></font>"
   ]
  },
  {
   "cell_type": "markdown",
   "metadata": {},
   "source": [
    "## 3. Исследуйте модели"
   ]
  },
  {
   "cell_type": "markdown",
   "metadata": {},
   "source": [
    "Для решения задачи классификации рассмотрим следующие изученные модели:\n",
    "\n",
    "- дерево решений / decision tree\n",
    "- случайный лес / random forest\n",
    "- логистическую регрессию / logistic regression"
   ]
  },
  {
   "cell_type": "code",
   "execution_count": 26,
   "metadata": {},
   "outputs": [],
   "source": [
    "features_train = df_train.drop(['is_ultra'], axis=1)\n",
    "target_train = df_train['is_ultra']\n",
    "\n",
    "features_valid = df_valid.drop(['is_ultra'], axis=1)\n",
    "target_valid = df_valid['is_ultra']"
   ]
  },
  {
   "cell_type": "code",
   "execution_count": 27,
   "metadata": {},
   "outputs": [],
   "source": [
    "def accuracy_score_valid(model):\n",
    "    predictions_valid = model.predict(features_valid)\n",
    "    return accuracy_score(target_valid, predictions_valid)"
   ]
  },
  {
   "cell_type": "markdown",
   "metadata": {},
   "source": [
    "# Дерево решений"
   ]
  },
  {
   "cell_type": "code",
   "execution_count": 28,
   "metadata": {},
   "outputs": [
    {
     "name": "stdout",
     "output_type": "stream",
     "text": [
      "max_depth = 1:\t0.76049766718507\n",
      "max_depth = 3:\t0.807153965785381\n",
      "max_depth = 5:\t0.8087091757387247\n",
      "max_depth = 7:\t0.8009331259720062\n",
      "max_depth = 9:\t0.8009331259720062\n",
      "max_depth = 11:\t0.7931570762052877\n",
      "max_depth = 13:\t0.7791601866251944\n",
      "max_depth = 15:\t0.7636080870917574\n",
      "max_depth = 17:\t0.7558320373250389\n",
      "max_depth = 19:\t0.744945567651633\n"
     ]
    }
   ],
   "source": [
    "# Посмотрим как глубина решающего дерева влияет на оценку правильности\n",
    "for max_depth in range(1, 21, 2):\n",
    "    model = DecisionTreeClassifier(max_depth=max_depth, random_state=rnd_state)\n",
    "    model.fit(features_train, target_train)\n",
    "    print(f\"max_depth = {max_depth}:\\t{accuracy_score_valid(model)}\")"
   ]
  },
  {
   "cell_type": "markdown",
   "metadata": {},
   "source": [
    " Судя по валидационной выборке, дерево решений имеет самую высокую оценку правильности 0.8087091757387247, когда задан гиперпараметр глубины равный 5."
   ]
  },
  {
   "cell_type": "markdown",
   "metadata": {},
   "source": [
    "# Случайный лес "
   ]
  },
  {
   "cell_type": "code",
   "execution_count": 29,
   "metadata": {},
   "outputs": [
    {
     "name": "stdout",
     "output_type": "stream",
     "text": [
      "n_estimators = 10:\t0.8149300155520995\n",
      "n_estimators = 20:\t0.8164852255054432\n",
      "n_estimators = 30:\t0.8180404354587869\n",
      "n_estimators = 40:\t0.8164852255054432\n",
      "n_estimators = 50:\t0.8149300155520995\n",
      "n_estimators = 60:\t0.8164852255054432\n",
      "n_estimators = 70:\t0.8164852255054432\n",
      "n_estimators = 80:\t0.8149300155520995\n",
      "n_estimators = 90:\t0.8164852255054432\n",
      "n_estimators = 100:\t0.8164852255054432\n"
     ]
    }
   ],
   "source": [
    "\n",
    "# В качестве гиперпараметра глубины дерева возьмем значение, найденное для предыдущей модели.\n",
    "# А количество деревьев для нашего случайного леса будет искать в диапазоне от 10 до 100 с шагом 10.\n",
    "for estim in range(10, 101, 10):\n",
    "    model = RandomForestClassifier(n_estimators=estim, max_depth=5, random_state=rnd_state)\n",
    "    model.fit(features_train, target_train)\n",
    "    print(f\"n_estimators = {estim}:\\t{accuracy_score_valid(model)}\")"
   ]
  },
  {
   "cell_type": "markdown",
   "metadata": {},
   "source": [
    "📝 Модель случайного леса предсказывает тариф точнее, но, как мы видим, не на много – 0.8180404354587869, даже при количестве деревьев леса равным 30.\n",
    "\n"
   ]
  },
  {
   "cell_type": "markdown",
   "metadata": {},
   "source": [
    "# Логистическая регрессия \n"
   ]
  },
  {
   "cell_type": "code",
   "execution_count": 30,
   "metadata": {},
   "outputs": [],
   "source": [
    "def logistic_regression(solver='liblinear'):\n",
    "    model = LogisticRegression(solver=solver, random_state=rnd_state)\n",
    "    model.fit(features_train, target_train)\n",
    "    return accuracy_score_valid(model)"
   ]
  },
  {
   "cell_type": "code",
   "execution_count": 31,
   "metadata": {},
   "outputs": [
    {
     "data": {
      "text/plain": [
       "0.7169517884914464"
      ]
     },
     "execution_count": 31,
     "metadata": {},
     "output_type": "execute_result"
    }
   ],
   "source": [
    "logistic_regression()\n"
   ]
  },
  {
   "cell_type": "code",
   "execution_count": 32,
   "metadata": {},
   "outputs": [],
   "source": [
    "solvers = ['newton-cg', 'lbfgs']\n"
   ]
  },
  {
   "cell_type": "code",
   "execution_count": 33,
   "metadata": {},
   "outputs": [
    {
     "name": "stdout",
     "output_type": "stream",
     "text": [
      "newton-cg: 0.7589424572317263\n",
      "lbfgs: 0.7169517884914464\n"
     ]
    },
    {
     "name": "stderr",
     "output_type": "stream",
     "text": [
      "/opt/conda/lib/python3.7/site-packages/scipy/optimize/linesearch.py:466: LineSearchWarning: The line search algorithm did not converge\n",
      "  warn('The line search algorithm did not converge', LineSearchWarning)\n",
      "/opt/conda/lib/python3.7/site-packages/scipy/optimize/linesearch.py:314: LineSearchWarning: The line search algorithm did not converge\n",
      "  warn('The line search algorithm did not converge', LineSearchWarning)\n",
      "/opt/conda/lib/python3.7/site-packages/scipy/optimize/linesearch.py:466: LineSearchWarning: The line search algorithm did not converge\n",
      "  warn('The line search algorithm did not converge', LineSearchWarning)\n",
      "/opt/conda/lib/python3.7/site-packages/scipy/optimize/linesearch.py:314: LineSearchWarning: The line search algorithm did not converge\n",
      "  warn('The line search algorithm did not converge', LineSearchWarning)\n"
     ]
    }
   ],
   "source": [
    "for solver in solvers:\n",
    "    print(f'{solver}: {logistic_regression(solver=solver)}')"
   ]
  },
  {
   "cell_type": "markdown",
   "metadata": {},
   "source": [
    "Даже используя другой алгоритм для решения задачи оптимизации модель логистической регрессии менее точна, чем дерево решений и случайный лес."
   ]
  },
  {
   "cell_type": "markdown",
   "metadata": {},
   "source": [
    "## 4. Проверьте модель на тестовой выборке"
   ]
  },
  {
   "cell_type": "markdown",
   "metadata": {},
   "source": [
    "В результате наших экспериментов на валидационной выборке мы выяснили, что самую высокую оценку правильности дает лес решений с глубиной равной 7 и количеством деревьев равным 70.\n",
    "\n"
   ]
  },
  {
   "cell_type": "code",
   "execution_count": 34,
   "metadata": {},
   "outputs": [
    {
     "data": {
      "text/plain": [
       "0.7869362363919129"
      ]
     },
     "execution_count": 34,
     "metadata": {},
     "output_type": "execute_result"
    }
   ],
   "source": [
    "features_test = df_test.drop(['is_ultra'], axis=1)\n",
    "target_test = df_test['is_ultra']\n",
    "\n",
    "model = RandomForestClassifier(n_estimators=30, max_depth=5, random_state=rnd_state)\n",
    "model.fit(features_train, target_train)\n",
    "\n",
    "predictions_test = model.predict(features_test)\n",
    "accuracy_score(target_test, predictions_test)"
   ]
  },
  {
   "cell_type": "markdown",
   "metadata": {},
   "source": [
    "На тестовой выборке наша модель случайного леса показывает приближенное к тренировочной выборке значение accuracy. Таким образом, мы не видим здесь явной проблемы с переобучением, и можем считать, что нам удалось построить модель для задачи бинарной классификации, которая выберет подходящий тариф.\n",
    "\n"
   ]
  },
  {
   "cell_type": "markdown",
   "metadata": {},
   "source": [
    "<font color='blue'> \n",
    "### <u>КОММЕНТАРИЙ РЕВЬЮЕРА</u>\n",
    "</font>\n",
    "<font color='green'>\n",
    "понятно, ок\n",
    "<br>\n",
    "</font>"
   ]
  },
  {
   "cell_type": "markdown",
   "metadata": {},
   "source": [
    "<font color='blue'><u><b>КОММЕНТАРИЙ РЕВЬЮЕРА</b></u></font><br />\n",
    "<font color='green'>\n",
    "<br/> Дамир,  <br>\n",
    "работа такая, что не разгнаться взглядом)))))<br>\n",
    "Всё логично, адекватно, вдумчиво и с выводами - это важно.<br>\n",
    "организовали перебор параметров моделей.....\n",
    "Мне и добавить то нечего)<br>\n",
    "\n",
    "Отмечу только один момент, так для практики (этого не было в задании)<br>\n",
    "На практике, совместно с AUC (это ведь лишь обобщённая метрика), очень полезно использовать метрики \"полнота\" \"точность\" TruePositive....\n",
    "Это поможет забраковать модели с высоким AUC но низкой бизнес-полезностью. Например, модель очень хорошо предсказывает активных существующих клиентов и очень плохо отток. Но AUC может оказаться достаточно высоким, ставим её в бой, а на деле - хорошо если не убытки для бизнеса...   <br>\n",
    "    \n",
    "<br><br>СПАСИБО)<br>\n",
    " УДАЧИ В ДАЛЬНЕЙШЕМ ОБУЧЕНИИ!!!\n",
    "\n",
    "</b></font>"
   ]
  },
  {
   "cell_type": "markdown",
   "metadata": {},
   "source": [
    "## 5. (бонус) Проверьте модели на адекватность"
   ]
  },
  {
   "cell_type": "code",
   "execution_count": 35,
   "metadata": {},
   "outputs": [
    {
     "data": {
      "text/plain": [
       "0    2229\n",
       "1     985\n",
       "Name: is_ultra, dtype: int64"
      ]
     },
     "execution_count": 35,
     "metadata": {},
     "output_type": "execute_result"
    }
   ],
   "source": [
    "data['is_ultra'].value_counts()\n"
   ]
  },
  {
   "cell_type": "markdown",
   "metadata": {},
   "source": [
    "Для задач бинарной классификации могут быть использованы следующие методы:\n",
    "\n",
    "Матрица ошибок / confusion matrix\n",
    "Тесты бинарной классификации / binary classification tests\n",
    "Коэффициент конверсии / conversion rates\n",
    "ROC-кривая / ROC curve\n",
    "Совокупный доход / cumulative gain\n",
    "Lift-кривая / lift chart"
   ]
  },
  {
   "cell_type": "markdown",
   "metadata": {},
   "source": [
    "Работает и сравнение модели со случайной.\n",
    "\n"
   ]
  },
  {
   "cell_type": "code",
   "execution_count": 36,
   "metadata": {},
   "outputs": [
    {
     "data": {
      "text/plain": [
       "0    442\n",
       "1    201\n",
       "Name: is_ultra, dtype: int64"
      ]
     },
     "execution_count": 36,
     "metadata": {},
     "output_type": "execute_result"
    }
   ],
   "source": [
    "df_test['is_ultra'].value_counts()\n"
   ]
  },
  {
   "cell_type": "markdown",
   "metadata": {},
   "source": [
    "Доля большего класса тестовой выборки равна ~0.69; полученная нами модель имеет accuracy ~0.79. Таким образом, мы можем считать модель адекватной для использования в продакшене.\n",
    "\n"
   ]
  },
  {
   "cell_type": "markdown",
   "metadata": {},
   "source": [
    "## Чек-лист готовности проекта"
   ]
  },
  {
   "cell_type": "markdown",
   "metadata": {},
   "source": [
    "Поставьте 'x' в выполненных пунктах. Далее нажмите Shift+Enter."
   ]
  },
  {
   "cell_type": "markdown",
   "metadata": {},
   "source": [
    "- [x] Jupyter Notebook открыт\n",
    "- [ ] Весь код исполняется без ошибок\n",
    "- [ ] Ячейки с кодом расположены в порядке исполнения\n",
    "- [ ] Выполнено задание 1: данные загружены и изучены\n",
    "- [ ] Выполнено задание 2: данные разбиты на три выборки\n",
    "- [ ] Выполнено задание 3: проведено исследование моделей\n",
    "    - [ ] Рассмотрено больше одной модели\n",
    "    - [ ] Рассмотрено хотя бы 3 значения гипепараметров для какой-нибудь модели\n",
    "    - [ ] Написаны выводы по результатам исследования\n",
    "- [ ] Выполнено задание 3: Проведено тестирование\n",
    "- [ ] Удалось достичь accuracy не меньше 0.75\n"
   ]
  },
  {
   "cell_type": "code",
   "execution_count": null,
   "metadata": {},
   "outputs": [],
   "source": []
  }
 ],
 "metadata": {
  "kernelspec": {
   "display_name": "Python 3",
   "language": "python",
   "name": "python3"
  },
  "language_info": {
   "codemirror_mode": {
    "name": "ipython",
    "version": 3
   },
   "file_extension": ".py",
   "mimetype": "text/x-python",
   "name": "python",
   "nbconvert_exporter": "python",
   "pygments_lexer": "ipython3",
   "version": "3.7.4"
  }
 },
 "nbformat": 4,
 "nbformat_minor": 2
}
