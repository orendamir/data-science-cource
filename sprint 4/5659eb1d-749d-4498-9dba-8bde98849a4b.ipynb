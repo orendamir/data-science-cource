{
 "cells": [
  {
   "cell_type": "markdown",
   "metadata": {},
   "source": [
    "<div style=\"border:solid green 2px; padding: 20px\"> <h1 style=\"color:green; margin-bottom:20px\">Комментарий наставника</h1>\n",
    "\n",
    "Привет! Спасибо, что сдал задание:) Ты проделал большую работу. Далее в файле мои комментарии ты сможешь найти в ячейках, аналогичных данной ( если рамки комментария зелёные - всё сделано правильно; жёлтые - есть замечания, но не критично; красные - нужно переделать). Не удаляй эти комментарии и постарайся учесть их в ходе выполнения проекта. \n",
    "\n",
    "</div>"
   ]
  },
  {
   "cell_type": "markdown",
   "metadata": {},
   "source": [
    "# Шаг 1. Откройте файл с данными и изучите общую информацию\n"
   ]
  },
  {
   "cell_type": "markdown",
   "metadata": {},
   "source": [
    "<div style=\"border:solid  orange  2px; padding: 20px\"> <h1 style=\"color: orange ; margin-bottom:20px\">Комментарий наставника</h1>\n",
    "\n",
    "Надо обязательно прикреплять описание проекта, иначе не понятно в чём суть вообще твоей работы"
   ]
  },
  {
   "cell_type": "code",
   "execution_count": 338,
   "metadata": {},
   "outputs": [],
   "source": [
    "import numpy as np\n",
    "import pandas as pd\n",
    "import matplotlib.pyplot as plt\n",
    "from scipy import stats as st"
   ]
  },
  {
   "cell_type": "code",
   "execution_count": 339,
   "metadata": {},
   "outputs": [],
   "source": [
    "calls = pd.read_csv('/datasets/calls.csv')\n",
    "internet = pd.read_csv('/datasets/internet.csv')\n",
    "messages = pd.read_csv('/datasets/messages.csv')\n",
    "tariffs = pd.read_csv('/datasets/tariffs.csv')\n",
    "users = pd.read_csv('/datasets/users.csv')"
   ]
  },
  {
   "cell_type": "code",
   "execution_count": 340,
   "metadata": {},
   "outputs": [
    {
     "name": "stdout",
     "output_type": "stream",
     "text": [
      "<class 'pandas.core.frame.DataFrame'>\n",
      "RangeIndex: 2 entries, 0 to 1\n",
      "Data columns (total 8 columns):\n",
      "messages_included        2 non-null int64\n",
      "mb_per_month_included    2 non-null int64\n",
      "minutes_included         2 non-null int64\n",
      "rub_monthly_fee          2 non-null int64\n",
      "rub_per_gb               2 non-null int64\n",
      "rub_per_message          2 non-null int64\n",
      "rub_per_minute           2 non-null int64\n",
      "tariff_name              2 non-null object\n",
      "dtypes: int64(7), object(1)\n",
      "memory usage: 256.0+ bytes\n"
     ]
    }
   ],
   "source": [
    "tariffs.info()\n"
   ]
  },
  {
   "cell_type": "markdown",
   "metadata": {},
   "source": [
    "- tariff_name — название тарифа\n",
    "- rub_monthly_fee — ежемесячная абонентская плата в рублях\n",
    "- minutes_included — количество минут разговора в месяц, включённых в абонентскую плату\n",
    "- messages_included — количество сообщений в месяц, включённых в абонентскую плату\n",
    "- mb_per_month_included — объём интернет-трафика, включённого в абонентскую плату (в мегабайтах)\n",
    "- rub_per_minute — стоимость минуты разговора сверх тарифного пакета (например, если в тарифе 100 минут разговора в месяц, то со 101 минуты будет взиматься плата)\n",
    "- rub_per_message — стоимость отправки сообщения сверх тарифного пакета\n",
    "- rub_per_gb — стоимость дополнительного гигабайта интернет-трафика сверх тарифного пакета (1 гигабайт = 1024 мегабайта)"
   ]
  },
  {
   "cell_type": "code",
   "execution_count": 341,
   "metadata": {},
   "outputs": [],
   "source": [
    "\n",
    "    #Сразу же переименуем колонку с названием тарифа, чтобы в дальнейшем у нас была возможность применить merge по ней.\n",
    "    \n",
    "\n",
    "tariffs = tariffs.rename(columns={'tariff_name': 'tariff'})"
   ]
  },
  {
   "cell_type": "code",
   "execution_count": 342,
   "metadata": {},
   "outputs": [
    {
     "data": {
      "text/html": [
       "<div>\n",
       "<style scoped>\n",
       "    .dataframe tbody tr th:only-of-type {\n",
       "        vertical-align: middle;\n",
       "    }\n",
       "\n",
       "    .dataframe tbody tr th {\n",
       "        vertical-align: top;\n",
       "    }\n",
       "\n",
       "    .dataframe thead th {\n",
       "        text-align: right;\n",
       "    }\n",
       "</style>\n",
       "<table border=\"1\" class=\"dataframe\">\n",
       "  <thead>\n",
       "    <tr style=\"text-align: right;\">\n",
       "      <th></th>\n",
       "      <th>messages_included</th>\n",
       "      <th>mb_per_month_included</th>\n",
       "      <th>minutes_included</th>\n",
       "      <th>rub_monthly_fee</th>\n",
       "      <th>rub_per_gb</th>\n",
       "      <th>rub_per_message</th>\n",
       "      <th>rub_per_minute</th>\n",
       "      <th>tariff</th>\n",
       "    </tr>\n",
       "  </thead>\n",
       "  <tbody>\n",
       "    <tr>\n",
       "      <td>0</td>\n",
       "      <td>50</td>\n",
       "      <td>15360</td>\n",
       "      <td>500</td>\n",
       "      <td>550</td>\n",
       "      <td>200</td>\n",
       "      <td>3</td>\n",
       "      <td>3</td>\n",
       "      <td>smart</td>\n",
       "    </tr>\n",
       "    <tr>\n",
       "      <td>1</td>\n",
       "      <td>1000</td>\n",
       "      <td>30720</td>\n",
       "      <td>3000</td>\n",
       "      <td>1950</td>\n",
       "      <td>150</td>\n",
       "      <td>1</td>\n",
       "      <td>1</td>\n",
       "      <td>ultra</td>\n",
       "    </tr>\n",
       "  </tbody>\n",
       "</table>\n",
       "</div>"
      ],
      "text/plain": [
       "   messages_included  mb_per_month_included  minutes_included  \\\n",
       "0                 50                  15360               500   \n",
       "1               1000                  30720              3000   \n",
       "\n",
       "   rub_monthly_fee  rub_per_gb  rub_per_message  rub_per_minute tariff  \n",
       "0              550         200                3               3  smart  \n",
       "1             1950         150                1               1  ultra  "
      ]
     },
     "execution_count": 342,
     "metadata": {},
     "output_type": "execute_result"
    }
   ],
   "source": [
    "tariffs\n"
   ]
  },
  {
   "cell_type": "code",
   "execution_count": 343,
   "metadata": {},
   "outputs": [
    {
     "name": "stdout",
     "output_type": "stream",
     "text": [
      "<class 'pandas.core.frame.DataFrame'>\n",
      "RangeIndex: 500 entries, 0 to 499\n",
      "Data columns (total 8 columns):\n",
      "user_id       500 non-null int64\n",
      "age           500 non-null int64\n",
      "churn_date    38 non-null object\n",
      "city          500 non-null object\n",
      "first_name    500 non-null object\n",
      "last_name     500 non-null object\n",
      "reg_date      500 non-null object\n",
      "tariff        500 non-null object\n",
      "dtypes: int64(2), object(6)\n",
      "memory usage: 31.4+ KB\n"
     ]
    }
   ],
   "source": [
    "users.info()\n"
   ]
  },
  {
   "cell_type": "markdown",
   "metadata": {},
   "source": [
    "\n",
    "- user_id — уникальный идентификатор пользователя\n",
    "- first_name — имя пользователя\n",
    "- last_name — фамилия пользователя\n",
    "- age — возраст пользователя (годы)\n",
    "- reg_date — дата подключения тарифа (день, месяц, год)\n",
    "- churn_date — дата прекращения пользования тарифом (если значение пропущено, то тариф ещё действовал на момент выгрузки данных)\n",
    "- city — город проживания пользователя\n",
    "- tariff — название тарифного плана"
   ]
  },
  {
   "cell_type": "code",
   "execution_count": 344,
   "metadata": {},
   "outputs": [
    {
     "data": {
      "text/html": [
       "<div>\n",
       "<style scoped>\n",
       "    .dataframe tbody tr th:only-of-type {\n",
       "        vertical-align: middle;\n",
       "    }\n",
       "\n",
       "    .dataframe tbody tr th {\n",
       "        vertical-align: top;\n",
       "    }\n",
       "\n",
       "    .dataframe thead th {\n",
       "        text-align: right;\n",
       "    }\n",
       "</style>\n",
       "<table border=\"1\" class=\"dataframe\">\n",
       "  <thead>\n",
       "    <tr style=\"text-align: right;\">\n",
       "      <th></th>\n",
       "      <th>user_id</th>\n",
       "      <th>age</th>\n",
       "      <th>churn_date</th>\n",
       "      <th>city</th>\n",
       "      <th>first_name</th>\n",
       "      <th>last_name</th>\n",
       "      <th>reg_date</th>\n",
       "      <th>tariff</th>\n",
       "    </tr>\n",
       "  </thead>\n",
       "  <tbody>\n",
       "    <tr>\n",
       "      <td>0</td>\n",
       "      <td>1000</td>\n",
       "      <td>52</td>\n",
       "      <td>NaN</td>\n",
       "      <td>Краснодар</td>\n",
       "      <td>Рафаил</td>\n",
       "      <td>Верещагин</td>\n",
       "      <td>2018-05-25</td>\n",
       "      <td>ultra</td>\n",
       "    </tr>\n",
       "    <tr>\n",
       "      <td>1</td>\n",
       "      <td>1001</td>\n",
       "      <td>41</td>\n",
       "      <td>NaN</td>\n",
       "      <td>Москва</td>\n",
       "      <td>Иван</td>\n",
       "      <td>Ежов</td>\n",
       "      <td>2018-11-01</td>\n",
       "      <td>smart</td>\n",
       "    </tr>\n",
       "    <tr>\n",
       "      <td>2</td>\n",
       "      <td>1002</td>\n",
       "      <td>59</td>\n",
       "      <td>NaN</td>\n",
       "      <td>Стерлитамак</td>\n",
       "      <td>Евгений</td>\n",
       "      <td>Абрамович</td>\n",
       "      <td>2018-06-17</td>\n",
       "      <td>smart</td>\n",
       "    </tr>\n",
       "    <tr>\n",
       "      <td>3</td>\n",
       "      <td>1003</td>\n",
       "      <td>23</td>\n",
       "      <td>NaN</td>\n",
       "      <td>Москва</td>\n",
       "      <td>Белла</td>\n",
       "      <td>Белякова</td>\n",
       "      <td>2018-08-17</td>\n",
       "      <td>ultra</td>\n",
       "    </tr>\n",
       "    <tr>\n",
       "      <td>4</td>\n",
       "      <td>1004</td>\n",
       "      <td>68</td>\n",
       "      <td>NaN</td>\n",
       "      <td>Новокузнецк</td>\n",
       "      <td>Татьяна</td>\n",
       "      <td>Авдеенко</td>\n",
       "      <td>2018-05-14</td>\n",
       "      <td>ultra</td>\n",
       "    </tr>\n",
       "    <tr>\n",
       "      <td>...</td>\n",
       "      <td>...</td>\n",
       "      <td>...</td>\n",
       "      <td>...</td>\n",
       "      <td>...</td>\n",
       "      <td>...</td>\n",
       "      <td>...</td>\n",
       "      <td>...</td>\n",
       "      <td>...</td>\n",
       "    </tr>\n",
       "    <tr>\n",
       "      <td>495</td>\n",
       "      <td>1495</td>\n",
       "      <td>65</td>\n",
       "      <td>NaN</td>\n",
       "      <td>Иркутск</td>\n",
       "      <td>Авксентий</td>\n",
       "      <td>Фокин</td>\n",
       "      <td>2018-08-28</td>\n",
       "      <td>ultra</td>\n",
       "    </tr>\n",
       "    <tr>\n",
       "      <td>496</td>\n",
       "      <td>1496</td>\n",
       "      <td>36</td>\n",
       "      <td>NaN</td>\n",
       "      <td>Вологда</td>\n",
       "      <td>Трифон</td>\n",
       "      <td>Блохин</td>\n",
       "      <td>2018-01-27</td>\n",
       "      <td>smart</td>\n",
       "    </tr>\n",
       "    <tr>\n",
       "      <td>497</td>\n",
       "      <td>1497</td>\n",
       "      <td>32</td>\n",
       "      <td>NaN</td>\n",
       "      <td>Челябинск</td>\n",
       "      <td>Каролина</td>\n",
       "      <td>Агеева</td>\n",
       "      <td>2018-10-09</td>\n",
       "      <td>smart</td>\n",
       "    </tr>\n",
       "    <tr>\n",
       "      <td>498</td>\n",
       "      <td>1498</td>\n",
       "      <td>68</td>\n",
       "      <td>2018-10-25</td>\n",
       "      <td>Владикавказ</td>\n",
       "      <td>Всеволод</td>\n",
       "      <td>Акимчин</td>\n",
       "      <td>2018-07-19</td>\n",
       "      <td>smart</td>\n",
       "    </tr>\n",
       "    <tr>\n",
       "      <td>499</td>\n",
       "      <td>1499</td>\n",
       "      <td>35</td>\n",
       "      <td>NaN</td>\n",
       "      <td>Пермь</td>\n",
       "      <td>Гектор</td>\n",
       "      <td>Корнилов</td>\n",
       "      <td>2018-09-27</td>\n",
       "      <td>smart</td>\n",
       "    </tr>\n",
       "  </tbody>\n",
       "</table>\n",
       "<p>500 rows × 8 columns</p>\n",
       "</div>"
      ],
      "text/plain": [
       "     user_id  age  churn_date         city first_name  last_name    reg_date  \\\n",
       "0       1000   52         NaN    Краснодар     Рафаил  Верещагин  2018-05-25   \n",
       "1       1001   41         NaN       Москва       Иван       Ежов  2018-11-01   \n",
       "2       1002   59         NaN  Стерлитамак    Евгений  Абрамович  2018-06-17   \n",
       "3       1003   23         NaN       Москва      Белла   Белякова  2018-08-17   \n",
       "4       1004   68         NaN  Новокузнецк    Татьяна   Авдеенко  2018-05-14   \n",
       "..       ...  ...         ...          ...        ...        ...         ...   \n",
       "495     1495   65         NaN      Иркутск  Авксентий      Фокин  2018-08-28   \n",
       "496     1496   36         NaN      Вологда     Трифон     Блохин  2018-01-27   \n",
       "497     1497   32         NaN    Челябинск   Каролина     Агеева  2018-10-09   \n",
       "498     1498   68  2018-10-25  Владикавказ   Всеволод    Акимчин  2018-07-19   \n",
       "499     1499   35         NaN        Пермь     Гектор   Корнилов  2018-09-27   \n",
       "\n",
       "    tariff  \n",
       "0    ultra  \n",
       "1    smart  \n",
       "2    smart  \n",
       "3    ultra  \n",
       "4    ultra  \n",
       "..     ...  \n",
       "495  ultra  \n",
       "496  smart  \n",
       "497  smart  \n",
       "498  smart  \n",
       "499  smart  \n",
       "\n",
       "[500 rows x 8 columns]"
      ]
     },
     "execution_count": 344,
     "metadata": {},
     "output_type": "execute_result"
    }
   ],
   "source": [
    "users"
   ]
  },
  {
   "cell_type": "code",
   "execution_count": 345,
   "metadata": {},
   "outputs": [
    {
     "name": "stdout",
     "output_type": "stream",
     "text": [
      "<class 'pandas.core.frame.DataFrame'>\n",
      "RangeIndex: 202607 entries, 0 to 202606\n",
      "Data columns (total 4 columns):\n",
      "id           202607 non-null object\n",
      "call_date    202607 non-null object\n",
      "duration     202607 non-null float64\n",
      "user_id      202607 non-null int64\n",
      "dtypes: float64(1), int64(1), object(2)\n",
      "memory usage: 6.2+ MB\n"
     ]
    }
   ],
   "source": [
    "calls.info()\n"
   ]
  },
  {
   "cell_type": "markdown",
   "metadata": {},
   "source": [
    "- id — уникальный номер звонка\n",
    "- call_date — дата звонка\n",
    "- duration — длительность звонка в минутах\n",
    "- user_id — идентификатор пользователя, сделавшего звонок"
   ]
  },
  {
   "cell_type": "code",
   "execution_count": 346,
   "metadata": {},
   "outputs": [
    {
     "data": {
      "text/html": [
       "<div>\n",
       "<style scoped>\n",
       "    .dataframe tbody tr th:only-of-type {\n",
       "        vertical-align: middle;\n",
       "    }\n",
       "\n",
       "    .dataframe tbody tr th {\n",
       "        vertical-align: top;\n",
       "    }\n",
       "\n",
       "    .dataframe thead th {\n",
       "        text-align: right;\n",
       "    }\n",
       "</style>\n",
       "<table border=\"1\" class=\"dataframe\">\n",
       "  <thead>\n",
       "    <tr style=\"text-align: right;\">\n",
       "      <th></th>\n",
       "      <th>id</th>\n",
       "      <th>call_date</th>\n",
       "      <th>duration</th>\n",
       "      <th>user_id</th>\n",
       "    </tr>\n",
       "  </thead>\n",
       "  <tbody>\n",
       "    <tr>\n",
       "      <td>0</td>\n",
       "      <td>1000_0</td>\n",
       "      <td>2018-07-25</td>\n",
       "      <td>0.00</td>\n",
       "      <td>1000</td>\n",
       "    </tr>\n",
       "    <tr>\n",
       "      <td>1</td>\n",
       "      <td>1000_1</td>\n",
       "      <td>2018-08-17</td>\n",
       "      <td>0.00</td>\n",
       "      <td>1000</td>\n",
       "    </tr>\n",
       "    <tr>\n",
       "      <td>2</td>\n",
       "      <td>1000_2</td>\n",
       "      <td>2018-06-11</td>\n",
       "      <td>2.85</td>\n",
       "      <td>1000</td>\n",
       "    </tr>\n",
       "    <tr>\n",
       "      <td>3</td>\n",
       "      <td>1000_3</td>\n",
       "      <td>2018-09-21</td>\n",
       "      <td>13.80</td>\n",
       "      <td>1000</td>\n",
       "    </tr>\n",
       "    <tr>\n",
       "      <td>4</td>\n",
       "      <td>1000_4</td>\n",
       "      <td>2018-12-15</td>\n",
       "      <td>5.18</td>\n",
       "      <td>1000</td>\n",
       "    </tr>\n",
       "    <tr>\n",
       "      <td>...</td>\n",
       "      <td>...</td>\n",
       "      <td>...</td>\n",
       "      <td>...</td>\n",
       "      <td>...</td>\n",
       "    </tr>\n",
       "    <tr>\n",
       "      <td>202602</td>\n",
       "      <td>1499_215</td>\n",
       "      <td>2018-12-26</td>\n",
       "      <td>0.76</td>\n",
       "      <td>1499</td>\n",
       "    </tr>\n",
       "    <tr>\n",
       "      <td>202603</td>\n",
       "      <td>1499_216</td>\n",
       "      <td>2018-10-18</td>\n",
       "      <td>18.83</td>\n",
       "      <td>1499</td>\n",
       "    </tr>\n",
       "    <tr>\n",
       "      <td>202604</td>\n",
       "      <td>1499_217</td>\n",
       "      <td>2018-11-10</td>\n",
       "      <td>10.81</td>\n",
       "      <td>1499</td>\n",
       "    </tr>\n",
       "    <tr>\n",
       "      <td>202605</td>\n",
       "      <td>1499_218</td>\n",
       "      <td>2018-10-06</td>\n",
       "      <td>4.27</td>\n",
       "      <td>1499</td>\n",
       "    </tr>\n",
       "    <tr>\n",
       "      <td>202606</td>\n",
       "      <td>1499_219</td>\n",
       "      <td>2018-12-14</td>\n",
       "      <td>19.62</td>\n",
       "      <td>1499</td>\n",
       "    </tr>\n",
       "  </tbody>\n",
       "</table>\n",
       "<p>202607 rows × 4 columns</p>\n",
       "</div>"
      ],
      "text/plain": [
       "              id   call_date  duration  user_id\n",
       "0         1000_0  2018-07-25      0.00     1000\n",
       "1         1000_1  2018-08-17      0.00     1000\n",
       "2         1000_2  2018-06-11      2.85     1000\n",
       "3         1000_3  2018-09-21     13.80     1000\n",
       "4         1000_4  2018-12-15      5.18     1000\n",
       "...          ...         ...       ...      ...\n",
       "202602  1499_215  2018-12-26      0.76     1499\n",
       "202603  1499_216  2018-10-18     18.83     1499\n",
       "202604  1499_217  2018-11-10     10.81     1499\n",
       "202605  1499_218  2018-10-06      4.27     1499\n",
       "202606  1499_219  2018-12-14     19.62     1499\n",
       "\n",
       "[202607 rows x 4 columns]"
      ]
     },
     "execution_count": 346,
     "metadata": {},
     "output_type": "execute_result"
    }
   ],
   "source": [
    "calls"
   ]
  },
  {
   "cell_type": "code",
   "execution_count": 347,
   "metadata": {},
   "outputs": [
    {
     "name": "stdout",
     "output_type": "stream",
     "text": [
      "<class 'pandas.core.frame.DataFrame'>\n",
      "RangeIndex: 123036 entries, 0 to 123035\n",
      "Data columns (total 3 columns):\n",
      "id              123036 non-null object\n",
      "message_date    123036 non-null object\n",
      "user_id         123036 non-null int64\n",
      "dtypes: int64(1), object(2)\n",
      "memory usage: 2.8+ MB\n"
     ]
    }
   ],
   "source": [
    "messages.info()\n"
   ]
  },
  {
   "cell_type": "markdown",
   "metadata": {},
   "source": [
    "- id — уникальный номер сообщения\n",
    "- message_date — дата сообщения\n",
    "- user_id — идентификатор пользователя, отправившего сообщение"
   ]
  },
  {
   "cell_type": "code",
   "execution_count": 348,
   "metadata": {},
   "outputs": [
    {
     "data": {
      "text/html": [
       "<div>\n",
       "<style scoped>\n",
       "    .dataframe tbody tr th:only-of-type {\n",
       "        vertical-align: middle;\n",
       "    }\n",
       "\n",
       "    .dataframe tbody tr th {\n",
       "        vertical-align: top;\n",
       "    }\n",
       "\n",
       "    .dataframe thead th {\n",
       "        text-align: right;\n",
       "    }\n",
       "</style>\n",
       "<table border=\"1\" class=\"dataframe\">\n",
       "  <thead>\n",
       "    <tr style=\"text-align: right;\">\n",
       "      <th></th>\n",
       "      <th>id</th>\n",
       "      <th>message_date</th>\n",
       "      <th>user_id</th>\n",
       "    </tr>\n",
       "  </thead>\n",
       "  <tbody>\n",
       "    <tr>\n",
       "      <td>0</td>\n",
       "      <td>1000_0</td>\n",
       "      <td>2018-06-27</td>\n",
       "      <td>1000</td>\n",
       "    </tr>\n",
       "    <tr>\n",
       "      <td>1</td>\n",
       "      <td>1000_1</td>\n",
       "      <td>2018-10-08</td>\n",
       "      <td>1000</td>\n",
       "    </tr>\n",
       "    <tr>\n",
       "      <td>2</td>\n",
       "      <td>1000_2</td>\n",
       "      <td>2018-08-04</td>\n",
       "      <td>1000</td>\n",
       "    </tr>\n",
       "    <tr>\n",
       "      <td>3</td>\n",
       "      <td>1000_3</td>\n",
       "      <td>2018-06-16</td>\n",
       "      <td>1000</td>\n",
       "    </tr>\n",
       "    <tr>\n",
       "      <td>4</td>\n",
       "      <td>1000_4</td>\n",
       "      <td>2018-12-05</td>\n",
       "      <td>1000</td>\n",
       "    </tr>\n",
       "    <tr>\n",
       "      <td>...</td>\n",
       "      <td>...</td>\n",
       "      <td>...</td>\n",
       "      <td>...</td>\n",
       "    </tr>\n",
       "    <tr>\n",
       "      <td>123031</td>\n",
       "      <td>1499_179</td>\n",
       "      <td>2018-12-12</td>\n",
       "      <td>1499</td>\n",
       "    </tr>\n",
       "    <tr>\n",
       "      <td>123032</td>\n",
       "      <td>1499_180</td>\n",
       "      <td>2018-09-28</td>\n",
       "      <td>1499</td>\n",
       "    </tr>\n",
       "    <tr>\n",
       "      <td>123033</td>\n",
       "      <td>1499_181</td>\n",
       "      <td>2018-09-27</td>\n",
       "      <td>1499</td>\n",
       "    </tr>\n",
       "    <tr>\n",
       "      <td>123034</td>\n",
       "      <td>1499_182</td>\n",
       "      <td>2018-11-15</td>\n",
       "      <td>1499</td>\n",
       "    </tr>\n",
       "    <tr>\n",
       "      <td>123035</td>\n",
       "      <td>1499_183</td>\n",
       "      <td>2018-11-16</td>\n",
       "      <td>1499</td>\n",
       "    </tr>\n",
       "  </tbody>\n",
       "</table>\n",
       "<p>123036 rows × 3 columns</p>\n",
       "</div>"
      ],
      "text/plain": [
       "              id message_date  user_id\n",
       "0         1000_0   2018-06-27     1000\n",
       "1         1000_1   2018-10-08     1000\n",
       "2         1000_2   2018-08-04     1000\n",
       "3         1000_3   2018-06-16     1000\n",
       "4         1000_4   2018-12-05     1000\n",
       "...          ...          ...      ...\n",
       "123031  1499_179   2018-12-12     1499\n",
       "123032  1499_180   2018-09-28     1499\n",
       "123033  1499_181   2018-09-27     1499\n",
       "123034  1499_182   2018-11-15     1499\n",
       "123035  1499_183   2018-11-16     1499\n",
       "\n",
       "[123036 rows x 3 columns]"
      ]
     },
     "execution_count": 348,
     "metadata": {},
     "output_type": "execute_result"
    }
   ],
   "source": [
    "messages"
   ]
  },
  {
   "cell_type": "code",
   "execution_count": 349,
   "metadata": {},
   "outputs": [
    {
     "name": "stdout",
     "output_type": "stream",
     "text": [
      "<class 'pandas.core.frame.DataFrame'>\n",
      "RangeIndex: 149396 entries, 0 to 149395\n",
      "Data columns (total 5 columns):\n",
      "Unnamed: 0      149396 non-null int64\n",
      "id              149396 non-null object\n",
      "mb_used         149396 non-null float64\n",
      "session_date    149396 non-null object\n",
      "user_id         149396 non-null int64\n",
      "dtypes: float64(1), int64(2), object(2)\n",
      "memory usage: 5.7+ MB\n"
     ]
    }
   ],
   "source": [
    "internet.info()\n"
   ]
  },
  {
   "cell_type": "markdown",
   "metadata": {},
   "source": [
    "- id — уникальный номер сессии\n",
    "- mb_used — объём потраченного за сессию интернет-трафика (в мегабайтах)\n",
    "- session_date — дата интернет-сессии\n",
    "- user_id — идентификатор пользователя"
   ]
  },
  {
   "cell_type": "code",
   "execution_count": 350,
   "metadata": {},
   "outputs": [
    {
     "data": {
      "text/html": [
       "<div>\n",
       "<style scoped>\n",
       "    .dataframe tbody tr th:only-of-type {\n",
       "        vertical-align: middle;\n",
       "    }\n",
       "\n",
       "    .dataframe tbody tr th {\n",
       "        vertical-align: top;\n",
       "    }\n",
       "\n",
       "    .dataframe thead th {\n",
       "        text-align: right;\n",
       "    }\n",
       "</style>\n",
       "<table border=\"1\" class=\"dataframe\">\n",
       "  <thead>\n",
       "    <tr style=\"text-align: right;\">\n",
       "      <th></th>\n",
       "      <th>Unnamed: 0</th>\n",
       "      <th>id</th>\n",
       "      <th>mb_used</th>\n",
       "      <th>session_date</th>\n",
       "      <th>user_id</th>\n",
       "    </tr>\n",
       "  </thead>\n",
       "  <tbody>\n",
       "    <tr>\n",
       "      <td>0</td>\n",
       "      <td>0</td>\n",
       "      <td>1000_0</td>\n",
       "      <td>112.95</td>\n",
       "      <td>2018-11-25</td>\n",
       "      <td>1000</td>\n",
       "    </tr>\n",
       "    <tr>\n",
       "      <td>1</td>\n",
       "      <td>1</td>\n",
       "      <td>1000_1</td>\n",
       "      <td>1052.81</td>\n",
       "      <td>2018-09-07</td>\n",
       "      <td>1000</td>\n",
       "    </tr>\n",
       "    <tr>\n",
       "      <td>2</td>\n",
       "      <td>2</td>\n",
       "      <td>1000_2</td>\n",
       "      <td>1197.26</td>\n",
       "      <td>2018-06-25</td>\n",
       "      <td>1000</td>\n",
       "    </tr>\n",
       "    <tr>\n",
       "      <td>3</td>\n",
       "      <td>3</td>\n",
       "      <td>1000_3</td>\n",
       "      <td>550.27</td>\n",
       "      <td>2018-08-22</td>\n",
       "      <td>1000</td>\n",
       "    </tr>\n",
       "    <tr>\n",
       "      <td>4</td>\n",
       "      <td>4</td>\n",
       "      <td>1000_4</td>\n",
       "      <td>302.56</td>\n",
       "      <td>2018-09-24</td>\n",
       "      <td>1000</td>\n",
       "    </tr>\n",
       "    <tr>\n",
       "      <td>...</td>\n",
       "      <td>...</td>\n",
       "      <td>...</td>\n",
       "      <td>...</td>\n",
       "      <td>...</td>\n",
       "      <td>...</td>\n",
       "    </tr>\n",
       "    <tr>\n",
       "      <td>149391</td>\n",
       "      <td>149391</td>\n",
       "      <td>1499_152</td>\n",
       "      <td>318.90</td>\n",
       "      <td>2018-10-03</td>\n",
       "      <td>1499</td>\n",
       "    </tr>\n",
       "    <tr>\n",
       "      <td>149392</td>\n",
       "      <td>149392</td>\n",
       "      <td>1499_153</td>\n",
       "      <td>490.13</td>\n",
       "      <td>2018-12-14</td>\n",
       "      <td>1499</td>\n",
       "    </tr>\n",
       "    <tr>\n",
       "      <td>149393</td>\n",
       "      <td>149393</td>\n",
       "      <td>1499_154</td>\n",
       "      <td>0.00</td>\n",
       "      <td>2018-10-27</td>\n",
       "      <td>1499</td>\n",
       "    </tr>\n",
       "    <tr>\n",
       "      <td>149394</td>\n",
       "      <td>149394</td>\n",
       "      <td>1499_155</td>\n",
       "      <td>1246.32</td>\n",
       "      <td>2018-11-26</td>\n",
       "      <td>1499</td>\n",
       "    </tr>\n",
       "    <tr>\n",
       "      <td>149395</td>\n",
       "      <td>149395</td>\n",
       "      <td>1499_156</td>\n",
       "      <td>544.37</td>\n",
       "      <td>2018-10-26</td>\n",
       "      <td>1499</td>\n",
       "    </tr>\n",
       "  </tbody>\n",
       "</table>\n",
       "<p>149396 rows × 5 columns</p>\n",
       "</div>"
      ],
      "text/plain": [
       "        Unnamed: 0        id  mb_used session_date  user_id\n",
       "0                0    1000_0   112.95   2018-11-25     1000\n",
       "1                1    1000_1  1052.81   2018-09-07     1000\n",
       "2                2    1000_2  1197.26   2018-06-25     1000\n",
       "3                3    1000_3   550.27   2018-08-22     1000\n",
       "4                4    1000_4   302.56   2018-09-24     1000\n",
       "...            ...       ...      ...          ...      ...\n",
       "149391      149391  1499_152   318.90   2018-10-03     1499\n",
       "149392      149392  1499_153   490.13   2018-12-14     1499\n",
       "149393      149393  1499_154     0.00   2018-10-27     1499\n",
       "149394      149394  1499_155  1246.32   2018-11-26     1499\n",
       "149395      149395  1499_156   544.37   2018-10-26     1499\n",
       "\n",
       "[149396 rows x 5 columns]"
      ]
     },
     "execution_count": 350,
     "metadata": {},
     "output_type": "execute_result"
    }
   ],
   "source": [
    "internet"
   ]
  },
  {
   "cell_type": "markdown",
   "metadata": {},
   "source": [
    "<div style=\"border:solid green 2px; padding: 20px\"> <h1 style=\"color:green; margin-bottom:20px\">Комментарий наставника</h1>\n",
    "\n",
    "Молодец, что провёл первичный анализ полученных данных, это всегда быстро помогает понять с чем предстоит работать, по выводам нареканий нет - всё верно и точно\n",
    "</div>"
   ]
  },
  {
   "cell_type": "markdown",
   "metadata": {},
   "source": [
    "# Шаг 2. Подготовьте данные\n"
   ]
  },
  {
   "cell_type": "code",
   "execution_count": 351,
   "metadata": {},
   "outputs": [],
   "source": [
    "calls['duration'] = calls['duration'].apply(np.ceil)\n",
    "NZ = calls['duration'] > 0\n",
    "calls['duration'].where(NZ, 1, inplace=True)"
   ]
  },
  {
   "cell_type": "markdown",
   "metadata": {},
   "source": [
    " - применил метод np.ceil для признака, тем самым получив верхнее значение в минутах;\n",
    " - заменил нули на 1 – минимальное значение сессии звонка для оператора. (по хорошему нужно сходить к коллегам и уточнить что с выгрузкой)"
   ]
  },
  {
   "cell_type": "code",
   "execution_count": 352,
   "metadata": {},
   "outputs": [],
   "source": [
    "internet['mb_used'] = internet['mb_used'].apply(np.ceil)\n",
    "NZI = internet['mb_used'] > 0\n",
    "internet['mb_used'].where(NZI, 1, inplace=True)"
   ]
  },
  {
   "cell_type": "markdown",
   "metadata": {},
   "source": [
    "- применим метод np.ceil для признака, тем самым получив верхнее значение в минутах;\n",
    "- заменим нули на 1 – минимальное значение сессии."
   ]
  },
  {
   "cell_type": "code",
   "execution_count": 353,
   "metadata": {},
   "outputs": [],
   "source": [
    "calls['call_date'] = pd.to_datetime(calls['call_date'], format='%Y-%m-%d')\n",
    "users['reg_date'] = pd.to_datetime(users['reg_date'], format='%Y-%m-%d')\n",
    "messages['message_date'] = pd.to_datetime(messages['message_date'], format='%Y-%m-%d')\n",
    "internet['session_date'] = pd.to_datetime(internet['session_date'], format='%Y-%m-%d')\n"
   ]
  },
  {
   "cell_type": "markdown",
   "metadata": {},
   "source": [
    "Преобразуем тип данных даты, чтоб в последующем извлечь месяц из даты"
   ]
  },
  {
   "cell_type": "code",
   "execution_count": 354,
   "metadata": {},
   "outputs": [],
   "source": [
    "calls['duration'] = calls['duration'].astype('int64')\n",
    "internet['mb_used'] = internet['mb_used'].astype('int64')"
   ]
  },
  {
   "cell_type": "code",
   "execution_count": 355,
   "metadata": {},
   "outputs": [],
   "source": [
    "total = pd.DataFrame()"
   ]
  },
  {
   "cell_type": "markdown",
   "metadata": {},
   "source": [
    "Создадим пустой ДатаФрейм"
   ]
  },
  {
   "cell_type": "code",
   "execution_count": 356,
   "metadata": {},
   "outputs": [],
   "source": [
    "calls['month'] = calls['call_date'].dt.month"
   ]
  },
  {
   "cell_type": "code",
   "execution_count": 357,
   "metadata": {},
   "outputs": [],
   "source": [
    "calls_by_month = calls.pivot_table(\n",
    "    index=['month', 'user_id'],\n",
    "    values='duration',\n",
    "    aggfunc=['count', 'sum']\n",
    ")"
   ]
  },
  {
   "cell_type": "code",
   "execution_count": 358,
   "metadata": {},
   "outputs": [
    {
     "data": {
      "text/html": [
       "<div>\n",
       "<style scoped>\n",
       "    .dataframe tbody tr th:only-of-type {\n",
       "        vertical-align: middle;\n",
       "    }\n",
       "\n",
       "    .dataframe tbody tr th {\n",
       "        vertical-align: top;\n",
       "    }\n",
       "\n",
       "    .dataframe thead tr th {\n",
       "        text-align: left;\n",
       "    }\n",
       "\n",
       "    .dataframe thead tr:last-of-type th {\n",
       "        text-align: right;\n",
       "    }\n",
       "</style>\n",
       "<table border=\"1\" class=\"dataframe\">\n",
       "  <thead>\n",
       "    <tr>\n",
       "      <th></th>\n",
       "      <th></th>\n",
       "      <th>count</th>\n",
       "      <th>sum</th>\n",
       "    </tr>\n",
       "    <tr>\n",
       "      <th></th>\n",
       "      <th></th>\n",
       "      <th>duration</th>\n",
       "      <th>duration</th>\n",
       "    </tr>\n",
       "    <tr>\n",
       "      <th>month</th>\n",
       "      <th>user_id</th>\n",
       "      <th></th>\n",
       "      <th></th>\n",
       "    </tr>\n",
       "  </thead>\n",
       "  <tbody>\n",
       "    <tr>\n",
       "      <td rowspan=\"5\" valign=\"top\">1</td>\n",
       "      <td>1005</td>\n",
       "      <td>15</td>\n",
       "      <td>99</td>\n",
       "    </tr>\n",
       "    <tr>\n",
       "      <td>1032</td>\n",
       "      <td>61</td>\n",
       "      <td>397</td>\n",
       "    </tr>\n",
       "    <tr>\n",
       "      <td>1045</td>\n",
       "      <td>1</td>\n",
       "      <td>9</td>\n",
       "    </tr>\n",
       "    <tr>\n",
       "      <td>1055</td>\n",
       "      <td>64</td>\n",
       "      <td>568</td>\n",
       "    </tr>\n",
       "    <tr>\n",
       "      <td>1071</td>\n",
       "      <td>24</td>\n",
       "      <td>200</td>\n",
       "    </tr>\n",
       "    <tr>\n",
       "      <td>...</td>\n",
       "      <td>...</td>\n",
       "      <td>...</td>\n",
       "      <td>...</td>\n",
       "    </tr>\n",
       "    <tr>\n",
       "      <td rowspan=\"5\" valign=\"top\">12</td>\n",
       "      <td>1494</td>\n",
       "      <td>62</td>\n",
       "      <td>426</td>\n",
       "    </tr>\n",
       "    <tr>\n",
       "      <td>1495</td>\n",
       "      <td>155</td>\n",
       "      <td>1066</td>\n",
       "    </tr>\n",
       "    <tr>\n",
       "      <td>1496</td>\n",
       "      <td>80</td>\n",
       "      <td>533</td>\n",
       "    </tr>\n",
       "    <tr>\n",
       "      <td>1497</td>\n",
       "      <td>71</td>\n",
       "      <td>558</td>\n",
       "    </tr>\n",
       "    <tr>\n",
       "      <td>1499</td>\n",
       "      <td>69</td>\n",
       "      <td>505</td>\n",
       "    </tr>\n",
       "  </tbody>\n",
       "</table>\n",
       "<p>3174 rows × 2 columns</p>\n",
       "</div>"
      ],
      "text/plain": [
       "                 count      sum\n",
       "              duration duration\n",
       "month user_id                  \n",
       "1     1005          15       99\n",
       "      1032          61      397\n",
       "      1045           1        9\n",
       "      1055          64      568\n",
       "      1071          24      200\n",
       "...                ...      ...\n",
       "12    1494          62      426\n",
       "      1495         155     1066\n",
       "      1496          80      533\n",
       "      1497          71      558\n",
       "      1499          69      505\n",
       "\n",
       "[3174 rows x 2 columns]"
      ]
     },
     "execution_count": 358,
     "metadata": {},
     "output_type": "execute_result"
    }
   ],
   "source": [
    "calls_by_month"
   ]
  },
  {
   "cell_type": "code",
   "execution_count": 359,
   "metadata": {},
   "outputs": [],
   "source": [
    "tmp_df = pd.DataFrame(calls_by_month.to_records())\n"
   ]
  },
  {
   "cell_type": "code",
   "execution_count": 360,
   "metadata": {},
   "outputs": [],
   "source": [
    "total['user_id'] = tmp_df['user_id']\n",
    "total['month']   = tmp_df['month']\n",
    "total['calls']   = tmp_df.iloc[:, 2]\n",
    "total['minutes'] = tmp_df.iloc[:, 3]"
   ]
  },
  {
   "cell_type": "code",
   "execution_count": 361,
   "metadata": {},
   "outputs": [
    {
     "data": {
      "text/html": [
       "<div>\n",
       "<style scoped>\n",
       "    .dataframe tbody tr th:only-of-type {\n",
       "        vertical-align: middle;\n",
       "    }\n",
       "\n",
       "    .dataframe tbody tr th {\n",
       "        vertical-align: top;\n",
       "    }\n",
       "\n",
       "    .dataframe thead th {\n",
       "        text-align: right;\n",
       "    }\n",
       "</style>\n",
       "<table border=\"1\" class=\"dataframe\">\n",
       "  <thead>\n",
       "    <tr style=\"text-align: right;\">\n",
       "      <th></th>\n",
       "      <th>user_id</th>\n",
       "      <th>month</th>\n",
       "      <th>calls</th>\n",
       "      <th>minutes</th>\n",
       "    </tr>\n",
       "  </thead>\n",
       "  <tbody>\n",
       "    <tr>\n",
       "      <td>0</td>\n",
       "      <td>1005</td>\n",
       "      <td>1</td>\n",
       "      <td>15</td>\n",
       "      <td>99</td>\n",
       "    </tr>\n",
       "    <tr>\n",
       "      <td>1</td>\n",
       "      <td>1032</td>\n",
       "      <td>1</td>\n",
       "      <td>61</td>\n",
       "      <td>397</td>\n",
       "    </tr>\n",
       "    <tr>\n",
       "      <td>2</td>\n",
       "      <td>1045</td>\n",
       "      <td>1</td>\n",
       "      <td>1</td>\n",
       "      <td>9</td>\n",
       "    </tr>\n",
       "    <tr>\n",
       "      <td>3</td>\n",
       "      <td>1055</td>\n",
       "      <td>1</td>\n",
       "      <td>64</td>\n",
       "      <td>568</td>\n",
       "    </tr>\n",
       "    <tr>\n",
       "      <td>4</td>\n",
       "      <td>1071</td>\n",
       "      <td>1</td>\n",
       "      <td>24</td>\n",
       "      <td>200</td>\n",
       "    </tr>\n",
       "    <tr>\n",
       "      <td>...</td>\n",
       "      <td>...</td>\n",
       "      <td>...</td>\n",
       "      <td>...</td>\n",
       "      <td>...</td>\n",
       "    </tr>\n",
       "    <tr>\n",
       "      <td>3169</td>\n",
       "      <td>1494</td>\n",
       "      <td>12</td>\n",
       "      <td>62</td>\n",
       "      <td>426</td>\n",
       "    </tr>\n",
       "    <tr>\n",
       "      <td>3170</td>\n",
       "      <td>1495</td>\n",
       "      <td>12</td>\n",
       "      <td>155</td>\n",
       "      <td>1066</td>\n",
       "    </tr>\n",
       "    <tr>\n",
       "      <td>3171</td>\n",
       "      <td>1496</td>\n",
       "      <td>12</td>\n",
       "      <td>80</td>\n",
       "      <td>533</td>\n",
       "    </tr>\n",
       "    <tr>\n",
       "      <td>3172</td>\n",
       "      <td>1497</td>\n",
       "      <td>12</td>\n",
       "      <td>71</td>\n",
       "      <td>558</td>\n",
       "    </tr>\n",
       "    <tr>\n",
       "      <td>3173</td>\n",
       "      <td>1499</td>\n",
       "      <td>12</td>\n",
       "      <td>69</td>\n",
       "      <td>505</td>\n",
       "    </tr>\n",
       "  </tbody>\n",
       "</table>\n",
       "<p>3174 rows × 4 columns</p>\n",
       "</div>"
      ],
      "text/plain": [
       "      user_id  month  calls  minutes\n",
       "0        1005      1     15       99\n",
       "1        1032      1     61      397\n",
       "2        1045      1      1        9\n",
       "3        1055      1     64      568\n",
       "4        1071      1     24      200\n",
       "...       ...    ...    ...      ...\n",
       "3169     1494     12     62      426\n",
       "3170     1495     12    155     1066\n",
       "3171     1496     12     80      533\n",
       "3172     1497     12     71      558\n",
       "3173     1499     12     69      505\n",
       "\n",
       "[3174 rows x 4 columns]"
      ]
     },
     "execution_count": 361,
     "metadata": {},
     "output_type": "execute_result"
    }
   ],
   "source": [
    "total"
   ]
  },
  {
   "cell_type": "code",
   "execution_count": 362,
   "metadata": {},
   "outputs": [],
   "source": [
    "messages['month'] = messages['message_date'].dt.month\n"
   ]
  },
  {
   "cell_type": "code",
   "execution_count": 363,
   "metadata": {},
   "outputs": [],
   "source": [
    "messages_by_month = messages.pivot_table(\n",
    "    index=['month', 'user_id'],\n",
    "    values='id',\n",
    "    aggfunc='count'\n",
    ")"
   ]
  },
  {
   "cell_type": "code",
   "execution_count": 364,
   "metadata": {},
   "outputs": [
    {
     "data": {
      "text/html": [
       "<div>\n",
       "<style scoped>\n",
       "    .dataframe tbody tr th:only-of-type {\n",
       "        vertical-align: middle;\n",
       "    }\n",
       "\n",
       "    .dataframe tbody tr th {\n",
       "        vertical-align: top;\n",
       "    }\n",
       "\n",
       "    .dataframe thead th {\n",
       "        text-align: right;\n",
       "    }\n",
       "</style>\n",
       "<table border=\"1\" class=\"dataframe\">\n",
       "  <thead>\n",
       "    <tr style=\"text-align: right;\">\n",
       "      <th></th>\n",
       "      <th></th>\n",
       "      <th>id</th>\n",
       "    </tr>\n",
       "    <tr>\n",
       "      <th>month</th>\n",
       "      <th>user_id</th>\n",
       "      <th></th>\n",
       "    </tr>\n",
       "  </thead>\n",
       "  <tbody>\n",
       "    <tr>\n",
       "      <td rowspan=\"5\" valign=\"top\">1</td>\n",
       "      <td>1005</td>\n",
       "      <td>7</td>\n",
       "    </tr>\n",
       "    <tr>\n",
       "      <td>1032</td>\n",
       "      <td>38</td>\n",
       "    </tr>\n",
       "    <tr>\n",
       "      <td>1045</td>\n",
       "      <td>5</td>\n",
       "    </tr>\n",
       "    <tr>\n",
       "      <td>1055</td>\n",
       "      <td>30</td>\n",
       "    </tr>\n",
       "    <tr>\n",
       "      <td>1071</td>\n",
       "      <td>16</td>\n",
       "    </tr>\n",
       "    <tr>\n",
       "      <td>...</td>\n",
       "      <td>...</td>\n",
       "      <td>...</td>\n",
       "    </tr>\n",
       "    <tr>\n",
       "      <td rowspan=\"5\" valign=\"top\">12</td>\n",
       "      <td>1493</td>\n",
       "      <td>78</td>\n",
       "    </tr>\n",
       "    <tr>\n",
       "      <td>1495</td>\n",
       "      <td>84</td>\n",
       "    </tr>\n",
       "    <tr>\n",
       "      <td>1496</td>\n",
       "      <td>51</td>\n",
       "    </tr>\n",
       "    <tr>\n",
       "      <td>1497</td>\n",
       "      <td>17</td>\n",
       "    </tr>\n",
       "    <tr>\n",
       "      <td>1499</td>\n",
       "      <td>66</td>\n",
       "    </tr>\n",
       "  </tbody>\n",
       "</table>\n",
       "<p>2717 rows × 1 columns</p>\n",
       "</div>"
      ],
      "text/plain": [
       "               id\n",
       "month user_id    \n",
       "1     1005      7\n",
       "      1032     38\n",
       "      1045      5\n",
       "      1055     30\n",
       "      1071     16\n",
       "...            ..\n",
       "12    1493     78\n",
       "      1495     84\n",
       "      1496     51\n",
       "      1497     17\n",
       "      1499     66\n",
       "\n",
       "[2717 rows x 1 columns]"
      ]
     },
     "execution_count": 364,
     "metadata": {},
     "output_type": "execute_result"
    }
   ],
   "source": [
    "messages_by_month"
   ]
  },
  {
   "cell_type": "code",
   "execution_count": 365,
   "metadata": {},
   "outputs": [],
   "source": [
    "tmp_df = pd.DataFrame(messages_by_month.to_records()).rename(columns={'id': 'messages'})\n"
   ]
  },
  {
   "cell_type": "code",
   "execution_count": 366,
   "metadata": {},
   "outputs": [
    {
     "data": {
      "text/html": [
       "<div>\n",
       "<style scoped>\n",
       "    .dataframe tbody tr th:only-of-type {\n",
       "        vertical-align: middle;\n",
       "    }\n",
       "\n",
       "    .dataframe tbody tr th {\n",
       "        vertical-align: top;\n",
       "    }\n",
       "\n",
       "    .dataframe thead th {\n",
       "        text-align: right;\n",
       "    }\n",
       "</style>\n",
       "<table border=\"1\" class=\"dataframe\">\n",
       "  <thead>\n",
       "    <tr style=\"text-align: right;\">\n",
       "      <th></th>\n",
       "      <th>month</th>\n",
       "      <th>user_id</th>\n",
       "      <th>messages</th>\n",
       "    </tr>\n",
       "  </thead>\n",
       "  <tbody>\n",
       "    <tr>\n",
       "      <td>0</td>\n",
       "      <td>1</td>\n",
       "      <td>1005</td>\n",
       "      <td>7</td>\n",
       "    </tr>\n",
       "    <tr>\n",
       "      <td>1</td>\n",
       "      <td>1</td>\n",
       "      <td>1032</td>\n",
       "      <td>38</td>\n",
       "    </tr>\n",
       "    <tr>\n",
       "      <td>2</td>\n",
       "      <td>1</td>\n",
       "      <td>1045</td>\n",
       "      <td>5</td>\n",
       "    </tr>\n",
       "    <tr>\n",
       "      <td>3</td>\n",
       "      <td>1</td>\n",
       "      <td>1055</td>\n",
       "      <td>30</td>\n",
       "    </tr>\n",
       "    <tr>\n",
       "      <td>4</td>\n",
       "      <td>1</td>\n",
       "      <td>1071</td>\n",
       "      <td>16</td>\n",
       "    </tr>\n",
       "    <tr>\n",
       "      <td>...</td>\n",
       "      <td>...</td>\n",
       "      <td>...</td>\n",
       "      <td>...</td>\n",
       "    </tr>\n",
       "    <tr>\n",
       "      <td>2712</td>\n",
       "      <td>12</td>\n",
       "      <td>1493</td>\n",
       "      <td>78</td>\n",
       "    </tr>\n",
       "    <tr>\n",
       "      <td>2713</td>\n",
       "      <td>12</td>\n",
       "      <td>1495</td>\n",
       "      <td>84</td>\n",
       "    </tr>\n",
       "    <tr>\n",
       "      <td>2714</td>\n",
       "      <td>12</td>\n",
       "      <td>1496</td>\n",
       "      <td>51</td>\n",
       "    </tr>\n",
       "    <tr>\n",
       "      <td>2715</td>\n",
       "      <td>12</td>\n",
       "      <td>1497</td>\n",
       "      <td>17</td>\n",
       "    </tr>\n",
       "    <tr>\n",
       "      <td>2716</td>\n",
       "      <td>12</td>\n",
       "      <td>1499</td>\n",
       "      <td>66</td>\n",
       "    </tr>\n",
       "  </tbody>\n",
       "</table>\n",
       "<p>2717 rows × 3 columns</p>\n",
       "</div>"
      ],
      "text/plain": [
       "      month  user_id  messages\n",
       "0         1     1005         7\n",
       "1         1     1032        38\n",
       "2         1     1045         5\n",
       "3         1     1055        30\n",
       "4         1     1071        16\n",
       "...     ...      ...       ...\n",
       "2712     12     1493        78\n",
       "2713     12     1495        84\n",
       "2714     12     1496        51\n",
       "2715     12     1497        17\n",
       "2716     12     1499        66\n",
       "\n",
       "[2717 rows x 3 columns]"
      ]
     },
     "execution_count": 366,
     "metadata": {},
     "output_type": "execute_result"
    }
   ],
   "source": [
    "tmp_df"
   ]
  },
  {
   "cell_type": "code",
   "execution_count": 367,
   "metadata": {},
   "outputs": [],
   "source": [
    "total = total.merge(tmp_df, on=['user_id', 'month'], how='outer')\n"
   ]
  },
  {
   "cell_type": "code",
   "execution_count": 368,
   "metadata": {},
   "outputs": [
    {
     "data": {
      "text/html": [
       "<div>\n",
       "<style scoped>\n",
       "    .dataframe tbody tr th:only-of-type {\n",
       "        vertical-align: middle;\n",
       "    }\n",
       "\n",
       "    .dataframe tbody tr th {\n",
       "        vertical-align: top;\n",
       "    }\n",
       "\n",
       "    .dataframe thead th {\n",
       "        text-align: right;\n",
       "    }\n",
       "</style>\n",
       "<table border=\"1\" class=\"dataframe\">\n",
       "  <thead>\n",
       "    <tr style=\"text-align: right;\">\n",
       "      <th></th>\n",
       "      <th>user_id</th>\n",
       "      <th>month</th>\n",
       "      <th>calls</th>\n",
       "      <th>minutes</th>\n",
       "      <th>messages</th>\n",
       "    </tr>\n",
       "  </thead>\n",
       "  <tbody>\n",
       "    <tr>\n",
       "      <td>0</td>\n",
       "      <td>1005</td>\n",
       "      <td>1</td>\n",
       "      <td>15.0</td>\n",
       "      <td>99.0</td>\n",
       "      <td>7.0</td>\n",
       "    </tr>\n",
       "    <tr>\n",
       "      <td>1</td>\n",
       "      <td>1032</td>\n",
       "      <td>1</td>\n",
       "      <td>61.0</td>\n",
       "      <td>397.0</td>\n",
       "      <td>38.0</td>\n",
       "    </tr>\n",
       "    <tr>\n",
       "      <td>2</td>\n",
       "      <td>1045</td>\n",
       "      <td>1</td>\n",
       "      <td>1.0</td>\n",
       "      <td>9.0</td>\n",
       "      <td>5.0</td>\n",
       "    </tr>\n",
       "    <tr>\n",
       "      <td>3</td>\n",
       "      <td>1055</td>\n",
       "      <td>1</td>\n",
       "      <td>64.0</td>\n",
       "      <td>568.0</td>\n",
       "      <td>30.0</td>\n",
       "    </tr>\n",
       "    <tr>\n",
       "      <td>4</td>\n",
       "      <td>1071</td>\n",
       "      <td>1</td>\n",
       "      <td>24.0</td>\n",
       "      <td>200.0</td>\n",
       "      <td>16.0</td>\n",
       "    </tr>\n",
       "    <tr>\n",
       "      <td>...</td>\n",
       "      <td>...</td>\n",
       "      <td>...</td>\n",
       "      <td>...</td>\n",
       "      <td>...</td>\n",
       "      <td>...</td>\n",
       "    </tr>\n",
       "    <tr>\n",
       "      <td>3208</td>\n",
       "      <td>1106</td>\n",
       "      <td>12</td>\n",
       "      <td>NaN</td>\n",
       "      <td>NaN</td>\n",
       "      <td>24.0</td>\n",
       "    </tr>\n",
       "    <tr>\n",
       "      <td>3209</td>\n",
       "      <td>1231</td>\n",
       "      <td>12</td>\n",
       "      <td>NaN</td>\n",
       "      <td>NaN</td>\n",
       "      <td>191.0</td>\n",
       "    </tr>\n",
       "    <tr>\n",
       "      <td>3210</td>\n",
       "      <td>1328</td>\n",
       "      <td>12</td>\n",
       "      <td>NaN</td>\n",
       "      <td>NaN</td>\n",
       "      <td>7.0</td>\n",
       "    </tr>\n",
       "    <tr>\n",
       "      <td>3211</td>\n",
       "      <td>1473</td>\n",
       "      <td>12</td>\n",
       "      <td>NaN</td>\n",
       "      <td>NaN</td>\n",
       "      <td>20.0</td>\n",
       "    </tr>\n",
       "    <tr>\n",
       "      <td>3212</td>\n",
       "      <td>1489</td>\n",
       "      <td>12</td>\n",
       "      <td>NaN</td>\n",
       "      <td>NaN</td>\n",
       "      <td>35.0</td>\n",
       "    </tr>\n",
       "  </tbody>\n",
       "</table>\n",
       "<p>3213 rows × 5 columns</p>\n",
       "</div>"
      ],
      "text/plain": [
       "      user_id  month  calls  minutes  messages\n",
       "0        1005      1   15.0     99.0       7.0\n",
       "1        1032      1   61.0    397.0      38.0\n",
       "2        1045      1    1.0      9.0       5.0\n",
       "3        1055      1   64.0    568.0      30.0\n",
       "4        1071      1   24.0    200.0      16.0\n",
       "...       ...    ...    ...      ...       ...\n",
       "3208     1106     12    NaN      NaN      24.0\n",
       "3209     1231     12    NaN      NaN     191.0\n",
       "3210     1328     12    NaN      NaN       7.0\n",
       "3211     1473     12    NaN      NaN      20.0\n",
       "3212     1489     12    NaN      NaN      35.0\n",
       "\n",
       "[3213 rows x 5 columns]"
      ]
     },
     "execution_count": 368,
     "metadata": {},
     "output_type": "execute_result"
    }
   ],
   "source": [
    "total"
   ]
  },
  {
   "cell_type": "code",
   "execution_count": 369,
   "metadata": {},
   "outputs": [],
   "source": [
    "internet['month'] = internet['session_date'].dt.month\n"
   ]
  },
  {
   "cell_type": "code",
   "execution_count": 370,
   "metadata": {},
   "outputs": [],
   "source": [
    "internet_by_month = internet.pivot_table(\n",
    "    index=['month', 'user_id'],\n",
    "    values='mb_used',\n",
    "    aggfunc='sum'\n",
    ")"
   ]
  },
  {
   "cell_type": "code",
   "execution_count": 371,
   "metadata": {},
   "outputs": [
    {
     "data": {
      "text/html": [
       "<div>\n",
       "<style scoped>\n",
       "    .dataframe tbody tr th:only-of-type {\n",
       "        vertical-align: middle;\n",
       "    }\n",
       "\n",
       "    .dataframe tbody tr th {\n",
       "        vertical-align: top;\n",
       "    }\n",
       "\n",
       "    .dataframe thead th {\n",
       "        text-align: right;\n",
       "    }\n",
       "</style>\n",
       "<table border=\"1\" class=\"dataframe\">\n",
       "  <thead>\n",
       "    <tr style=\"text-align: right;\">\n",
       "      <th></th>\n",
       "      <th></th>\n",
       "      <th>mb_used</th>\n",
       "    </tr>\n",
       "    <tr>\n",
       "      <th>month</th>\n",
       "      <th>user_id</th>\n",
       "      <th></th>\n",
       "    </tr>\n",
       "  </thead>\n",
       "  <tbody>\n",
       "    <tr>\n",
       "      <td rowspan=\"5\" valign=\"top\">1</td>\n",
       "      <td>1005</td>\n",
       "      <td>2730</td>\n",
       "    </tr>\n",
       "    <tr>\n",
       "      <td>1032</td>\n",
       "      <td>24158</td>\n",
       "    </tr>\n",
       "    <tr>\n",
       "      <td>1045</td>\n",
       "      <td>2348</td>\n",
       "    </tr>\n",
       "    <tr>\n",
       "      <td>1055</td>\n",
       "      <td>17115</td>\n",
       "    </tr>\n",
       "    <tr>\n",
       "      <td>1071</td>\n",
       "      <td>15625</td>\n",
       "    </tr>\n",
       "    <tr>\n",
       "      <td>...</td>\n",
       "      <td>...</td>\n",
       "      <td>...</td>\n",
       "    </tr>\n",
       "    <tr>\n",
       "      <td rowspan=\"5\" valign=\"top\">12</td>\n",
       "      <td>1494</td>\n",
       "      <td>17650</td>\n",
       "    </tr>\n",
       "    <tr>\n",
       "      <td>1495</td>\n",
       "      <td>23451</td>\n",
       "    </tr>\n",
       "    <tr>\n",
       "      <td>1496</td>\n",
       "      <td>20770</td>\n",
       "    </tr>\n",
       "    <tr>\n",
       "      <td>1497</td>\n",
       "      <td>19946</td>\n",
       "    </tr>\n",
       "    <tr>\n",
       "      <td>1499</td>\n",
       "      <td>13082</td>\n",
       "    </tr>\n",
       "  </tbody>\n",
       "</table>\n",
       "<p>3203 rows × 1 columns</p>\n",
       "</div>"
      ],
      "text/plain": [
       "               mb_used\n",
       "month user_id         \n",
       "1     1005        2730\n",
       "      1032       24158\n",
       "      1045        2348\n",
       "      1055       17115\n",
       "      1071       15625\n",
       "...                ...\n",
       "12    1494       17650\n",
       "      1495       23451\n",
       "      1496       20770\n",
       "      1497       19946\n",
       "      1499       13082\n",
       "\n",
       "[3203 rows x 1 columns]"
      ]
     },
     "execution_count": 371,
     "metadata": {},
     "output_type": "execute_result"
    }
   ],
   "source": [
    "internet_by_month"
   ]
  },
  {
   "cell_type": "code",
   "execution_count": 372,
   "metadata": {},
   "outputs": [],
   "source": [
    "tmp_df = pd.DataFrame(internet_by_month.to_records())\n"
   ]
  },
  {
   "cell_type": "code",
   "execution_count": 373,
   "metadata": {},
   "outputs": [],
   "source": [
    "total = total.merge(tmp_df, on=['user_id', 'month'], how='outer')\n"
   ]
  },
  {
   "cell_type": "code",
   "execution_count": 374,
   "metadata": {},
   "outputs": [
    {
     "name": "stdout",
     "output_type": "stream",
     "text": [
      "<class 'pandas.core.frame.DataFrame'>\n",
      "Int64Index: 3214 entries, 0 to 3213\n",
      "Data columns (total 6 columns):\n",
      "user_id     3214 non-null int64\n",
      "month       3214 non-null int64\n",
      "calls       3174 non-null float64\n",
      "minutes     3174 non-null float64\n",
      "messages    2717 non-null float64\n",
      "mb_used     3203 non-null float64\n",
      "dtypes: float64(4), int64(2)\n",
      "memory usage: 175.8 KB\n"
     ]
    }
   ],
   "source": [
    "total.info()"
   ]
  },
  {
   "cell_type": "markdown",
   "metadata": {},
   "source": [
    "После формирования датафрейма по месяцам появились пропуски. Такое ощущение, что некоторые пользователи в некоторые месяцы пользовались не всеми услугами. Например, кто-то только мобильным интернетом. Заполним пропуски нулями и позже посмотрим на распределение."
   ]
  },
  {
   "cell_type": "code",
   "execution_count": 375,
   "metadata": {},
   "outputs": [],
   "source": [
    "na = ['calls', 'minutes', 'messages']\n",
    "\n",
    "for f in na:\n",
    "    # При соединении датафреймов Pandas привел типы к float64 из-за пропусков,\n",
    "    # поэтому явно приведем их к int64\n",
    "    total[f] = total[f].fillna(0).astype('int64')"
   ]
  },
  {
   "cell_type": "code",
   "execution_count": 376,
   "metadata": {},
   "outputs": [
    {
     "name": "stdout",
     "output_type": "stream",
     "text": [
      "<class 'pandas.core.frame.DataFrame'>\n",
      "Int64Index: 3214 entries, 0 to 3213\n",
      "Data columns (total 6 columns):\n",
      "user_id     3214 non-null int64\n",
      "month       3214 non-null int64\n",
      "calls       3214 non-null int64\n",
      "minutes     3214 non-null int64\n",
      "messages    3214 non-null int64\n",
      "mb_used     3203 non-null float64\n",
      "dtypes: float64(1), int64(5)\n",
      "memory usage: 175.8 KB\n"
     ]
    }
   ],
   "source": [
    "total.info()\n"
   ]
  },
  {
   "cell_type": "code",
   "execution_count": 377,
   "metadata": {},
   "outputs": [
    {
     "data": {
      "text/html": [
       "<div>\n",
       "<style scoped>\n",
       "    .dataframe tbody tr th:only-of-type {\n",
       "        vertical-align: middle;\n",
       "    }\n",
       "\n",
       "    .dataframe tbody tr th {\n",
       "        vertical-align: top;\n",
       "    }\n",
       "\n",
       "    .dataframe thead th {\n",
       "        text-align: right;\n",
       "    }\n",
       "</style>\n",
       "<table border=\"1\" class=\"dataframe\">\n",
       "  <thead>\n",
       "    <tr style=\"text-align: right;\">\n",
       "      <th></th>\n",
       "      <th>user_id</th>\n",
       "      <th>month</th>\n",
       "      <th>calls</th>\n",
       "      <th>minutes</th>\n",
       "      <th>messages</th>\n",
       "      <th>mb_used</th>\n",
       "    </tr>\n",
       "  </thead>\n",
       "  <tbody>\n",
       "    <tr>\n",
       "      <td>0</td>\n",
       "      <td>1005</td>\n",
       "      <td>1</td>\n",
       "      <td>15</td>\n",
       "      <td>99</td>\n",
       "      <td>7</td>\n",
       "      <td>2730.0</td>\n",
       "    </tr>\n",
       "    <tr>\n",
       "      <td>1</td>\n",
       "      <td>1032</td>\n",
       "      <td>1</td>\n",
       "      <td>61</td>\n",
       "      <td>397</td>\n",
       "      <td>38</td>\n",
       "      <td>24158.0</td>\n",
       "    </tr>\n",
       "    <tr>\n",
       "      <td>2</td>\n",
       "      <td>1045</td>\n",
       "      <td>1</td>\n",
       "      <td>1</td>\n",
       "      <td>9</td>\n",
       "      <td>5</td>\n",
       "      <td>2348.0</td>\n",
       "    </tr>\n",
       "    <tr>\n",
       "      <td>3</td>\n",
       "      <td>1055</td>\n",
       "      <td>1</td>\n",
       "      <td>64</td>\n",
       "      <td>568</td>\n",
       "      <td>30</td>\n",
       "      <td>17115.0</td>\n",
       "    </tr>\n",
       "    <tr>\n",
       "      <td>4</td>\n",
       "      <td>1071</td>\n",
       "      <td>1</td>\n",
       "      <td>24</td>\n",
       "      <td>200</td>\n",
       "      <td>16</td>\n",
       "      <td>15625.0</td>\n",
       "    </tr>\n",
       "  </tbody>\n",
       "</table>\n",
       "</div>"
      ],
      "text/plain": [
       "   user_id  month  calls  minutes  messages  mb_used\n",
       "0     1005      1     15       99         7   2730.0\n",
       "1     1032      1     61      397        38  24158.0\n",
       "2     1045      1      1        9         5   2348.0\n",
       "3     1055      1     64      568        30  17115.0\n",
       "4     1071      1     24      200        16  15625.0"
      ]
     },
     "execution_count": 377,
     "metadata": {},
     "output_type": "execute_result"
    }
   ],
   "source": [
    "total.head()\n"
   ]
  },
  {
   "cell_type": "code",
   "execution_count": 378,
   "metadata": {},
   "outputs": [],
   "source": [
    "total = total.merge(users, on='user_id', how='left').merge(tariffs, on='tariff', how='left')\n"
   ]
  },
  {
   "cell_type": "code",
   "execution_count": 379,
   "metadata": {},
   "outputs": [],
   "source": [
    "total['minutes_over']  = total['minutes'] - total['minutes_included']\n",
    "total['messages_over'] = total['messages'] - total['messages_included']\n",
    "total['mb_used_over']  = total['mb_used'] - total['mb_per_month_included']"
   ]
  },
  {
   "cell_type": "code",
   "execution_count": 380,
   "metadata": {},
   "outputs": [
    {
     "data": {
      "text/html": [
       "<div>\n",
       "<style scoped>\n",
       "    .dataframe tbody tr th:only-of-type {\n",
       "        vertical-align: middle;\n",
       "    }\n",
       "\n",
       "    .dataframe tbody tr th {\n",
       "        vertical-align: top;\n",
       "    }\n",
       "\n",
       "    .dataframe thead th {\n",
       "        text-align: right;\n",
       "    }\n",
       "</style>\n",
       "<table border=\"1\" class=\"dataframe\">\n",
       "  <thead>\n",
       "    <tr style=\"text-align: right;\">\n",
       "      <th></th>\n",
       "      <th>user_id</th>\n",
       "      <th>month</th>\n",
       "      <th>calls</th>\n",
       "      <th>minutes</th>\n",
       "      <th>messages</th>\n",
       "      <th>mb_used</th>\n",
       "      <th>age</th>\n",
       "      <th>churn_date</th>\n",
       "      <th>city</th>\n",
       "      <th>first_name</th>\n",
       "      <th>...</th>\n",
       "      <th>messages_included</th>\n",
       "      <th>mb_per_month_included</th>\n",
       "      <th>minutes_included</th>\n",
       "      <th>rub_monthly_fee</th>\n",
       "      <th>rub_per_gb</th>\n",
       "      <th>rub_per_message</th>\n",
       "      <th>rub_per_minute</th>\n",
       "      <th>minutes_over</th>\n",
       "      <th>messages_over</th>\n",
       "      <th>mb_used_over</th>\n",
       "    </tr>\n",
       "  </thead>\n",
       "  <tbody>\n",
       "    <tr>\n",
       "      <td>0</td>\n",
       "      <td>1005</td>\n",
       "      <td>1</td>\n",
       "      <td>15</td>\n",
       "      <td>99</td>\n",
       "      <td>7</td>\n",
       "      <td>2730.0</td>\n",
       "      <td>67</td>\n",
       "      <td>NaN</td>\n",
       "      <td>Набережные Челны</td>\n",
       "      <td>Афанасий</td>\n",
       "      <td>...</td>\n",
       "      <td>50</td>\n",
       "      <td>15360</td>\n",
       "      <td>500</td>\n",
       "      <td>550</td>\n",
       "      <td>200</td>\n",
       "      <td>3</td>\n",
       "      <td>3</td>\n",
       "      <td>-401</td>\n",
       "      <td>-43</td>\n",
       "      <td>-12630.0</td>\n",
       "    </tr>\n",
       "    <tr>\n",
       "      <td>1</td>\n",
       "      <td>1032</td>\n",
       "      <td>1</td>\n",
       "      <td>61</td>\n",
       "      <td>397</td>\n",
       "      <td>38</td>\n",
       "      <td>24158.0</td>\n",
       "      <td>31</td>\n",
       "      <td>NaN</td>\n",
       "      <td>Ульяновск</td>\n",
       "      <td>Инна</td>\n",
       "      <td>...</td>\n",
       "      <td>50</td>\n",
       "      <td>15360</td>\n",
       "      <td>500</td>\n",
       "      <td>550</td>\n",
       "      <td>200</td>\n",
       "      <td>3</td>\n",
       "      <td>3</td>\n",
       "      <td>-103</td>\n",
       "      <td>-12</td>\n",
       "      <td>8798.0</td>\n",
       "    </tr>\n",
       "    <tr>\n",
       "      <td>2</td>\n",
       "      <td>1045</td>\n",
       "      <td>1</td>\n",
       "      <td>1</td>\n",
       "      <td>9</td>\n",
       "      <td>5</td>\n",
       "      <td>2348.0</td>\n",
       "      <td>48</td>\n",
       "      <td>NaN</td>\n",
       "      <td>Улан-Удэ</td>\n",
       "      <td>Джемма</td>\n",
       "      <td>...</td>\n",
       "      <td>50</td>\n",
       "      <td>15360</td>\n",
       "      <td>500</td>\n",
       "      <td>550</td>\n",
       "      <td>200</td>\n",
       "      <td>3</td>\n",
       "      <td>3</td>\n",
       "      <td>-491</td>\n",
       "      <td>-45</td>\n",
       "      <td>-13012.0</td>\n",
       "    </tr>\n",
       "    <tr>\n",
       "      <td>3</td>\n",
       "      <td>1055</td>\n",
       "      <td>1</td>\n",
       "      <td>64</td>\n",
       "      <td>568</td>\n",
       "      <td>30</td>\n",
       "      <td>17115.0</td>\n",
       "      <td>39</td>\n",
       "      <td>NaN</td>\n",
       "      <td>Казань</td>\n",
       "      <td>Луиза</td>\n",
       "      <td>...</td>\n",
       "      <td>50</td>\n",
       "      <td>15360</td>\n",
       "      <td>500</td>\n",
       "      <td>550</td>\n",
       "      <td>200</td>\n",
       "      <td>3</td>\n",
       "      <td>3</td>\n",
       "      <td>68</td>\n",
       "      <td>-20</td>\n",
       "      <td>1755.0</td>\n",
       "    </tr>\n",
       "    <tr>\n",
       "      <td>4</td>\n",
       "      <td>1071</td>\n",
       "      <td>1</td>\n",
       "      <td>24</td>\n",
       "      <td>200</td>\n",
       "      <td>16</td>\n",
       "      <td>15625.0</td>\n",
       "      <td>20</td>\n",
       "      <td>2018-08-31</td>\n",
       "      <td>Омск</td>\n",
       "      <td>Гектор</td>\n",
       "      <td>...</td>\n",
       "      <td>50</td>\n",
       "      <td>15360</td>\n",
       "      <td>500</td>\n",
       "      <td>550</td>\n",
       "      <td>200</td>\n",
       "      <td>3</td>\n",
       "      <td>3</td>\n",
       "      <td>-300</td>\n",
       "      <td>-34</td>\n",
       "      <td>265.0</td>\n",
       "    </tr>\n",
       "  </tbody>\n",
       "</table>\n",
       "<p>5 rows × 23 columns</p>\n",
       "</div>"
      ],
      "text/plain": [
       "   user_id  month  calls  minutes  messages  mb_used  age  churn_date  \\\n",
       "0     1005      1     15       99         7   2730.0   67         NaN   \n",
       "1     1032      1     61      397        38  24158.0   31         NaN   \n",
       "2     1045      1      1        9         5   2348.0   48         NaN   \n",
       "3     1055      1     64      568        30  17115.0   39         NaN   \n",
       "4     1071      1     24      200        16  15625.0   20  2018-08-31   \n",
       "\n",
       "               city first_name  ... messages_included mb_per_month_included  \\\n",
       "0  Набережные Челны   Афанасий  ...                50                 15360   \n",
       "1         Ульяновск       Инна  ...                50                 15360   \n",
       "2          Улан-Удэ     Джемма  ...                50                 15360   \n",
       "3            Казань      Луиза  ...                50                 15360   \n",
       "4              Омск     Гектор  ...                50                 15360   \n",
       "\n",
       "  minutes_included  rub_monthly_fee  rub_per_gb  rub_per_message  \\\n",
       "0              500              550         200                3   \n",
       "1              500              550         200                3   \n",
       "2              500              550         200                3   \n",
       "3              500              550         200                3   \n",
       "4              500              550         200                3   \n",
       "\n",
       "   rub_per_minute  minutes_over  messages_over  mb_used_over  \n",
       "0               3          -401            -43      -12630.0  \n",
       "1               3          -103            -12        8798.0  \n",
       "2               3          -491            -45      -13012.0  \n",
       "3               3            68            -20        1755.0  \n",
       "4               3          -300            -34         265.0  \n",
       "\n",
       "[5 rows x 23 columns]"
      ]
     },
     "execution_count": 380,
     "metadata": {},
     "output_type": "execute_result"
    }
   ],
   "source": [
    "total.head()\n"
   ]
  },
  {
   "cell_type": "markdown",
   "metadata": {},
   "source": [
    "Положительные значения указывают на перерасход. Отрицательные на остаток в рамках тарифа.\n",
    "\n"
   ]
  },
  {
   "cell_type": "code",
   "execution_count": 381,
   "metadata": {},
   "outputs": [],
   "source": [
    "def calc_monthly_revenue(row):\n",
    "    \n",
    "    \n",
    "    minutes_price = 0\n",
    "    messages_price = 0\n",
    "    mb_used_price = 0\n",
    "    \n",
    "    # стоимость дополнительных минут\n",
    "    if row['minutes_over'] > 0:\n",
    "        minutes_price = row['minutes_over'] * row['rub_per_minute']\n",
    "\n",
    "    # стоимость дополнительных сообщений\n",
    "    if row['messages_over'] > 0:\n",
    "        messages_price = row['messages_over'] * row['rub_per_message']\n",
    "\n",
    "    # стоимость дополнительного трафика\n",
    "    if row['mb_used_over'] > 0:\n",
    "        mb_used_price = (row['mb_used_over'] / 1024) * row['rub_per_gb']\n",
    "    \n",
    "    return minutes_price + messages_price + mb_used_price"
   ]
  },
  {
   "cell_type": "code",
   "execution_count": 382,
   "metadata": {},
   "outputs": [],
   "source": [
    "total['rub_monthly_fee_over'] = total.apply(calc_monthly_revenue, axis=1)\n",
    "total['rub_monthly_fee_total'] = total['rub_monthly_fee'] + total['rub_monthly_fee_over']"
   ]
  },
  {
   "cell_type": "code",
   "execution_count": 383,
   "metadata": {},
   "outputs": [],
   "source": [
    "total = pd.DataFrame(\n",
    "    total[['month', 'tariff', 'user_id', 'city',\n",
    "           'calls', 'minutes', 'messages', 'mb_used',\n",
    "           'minutes_over', 'messages_over', 'mb_used_over',\n",
    "           'rub_monthly_fee_over', 'rub_monthly_fee_total']]\n",
    ")"
   ]
  },
  {
   "cell_type": "markdown",
   "metadata": {},
   "source": [
    "Избавились от промежуточных расчетных колонок"
   ]
  },
  {
   "cell_type": "code",
   "execution_count": 384,
   "metadata": {},
   "outputs": [
    {
     "data": {
      "text/html": [
       "<div>\n",
       "<style scoped>\n",
       "    .dataframe tbody tr th:only-of-type {\n",
       "        vertical-align: middle;\n",
       "    }\n",
       "\n",
       "    .dataframe tbody tr th {\n",
       "        vertical-align: top;\n",
       "    }\n",
       "\n",
       "    .dataframe thead th {\n",
       "        text-align: right;\n",
       "    }\n",
       "</style>\n",
       "<table border=\"1\" class=\"dataframe\">\n",
       "  <thead>\n",
       "    <tr style=\"text-align: right;\">\n",
       "      <th></th>\n",
       "      <th>month</th>\n",
       "      <th>tariff</th>\n",
       "      <th>user_id</th>\n",
       "      <th>city</th>\n",
       "      <th>calls</th>\n",
       "      <th>minutes</th>\n",
       "      <th>messages</th>\n",
       "      <th>mb_used</th>\n",
       "      <th>minutes_over</th>\n",
       "      <th>messages_over</th>\n",
       "      <th>mb_used_over</th>\n",
       "      <th>rub_monthly_fee_over</th>\n",
       "      <th>rub_monthly_fee_total</th>\n",
       "    </tr>\n",
       "  </thead>\n",
       "  <tbody>\n",
       "    <tr>\n",
       "      <td>0</td>\n",
       "      <td>1</td>\n",
       "      <td>smart</td>\n",
       "      <td>1005</td>\n",
       "      <td>Набережные Челны</td>\n",
       "      <td>15</td>\n",
       "      <td>99</td>\n",
       "      <td>7</td>\n",
       "      <td>2730.0</td>\n",
       "      <td>-401</td>\n",
       "      <td>-43</td>\n",
       "      <td>-12630.0</td>\n",
       "      <td>0.000000</td>\n",
       "      <td>550.000000</td>\n",
       "    </tr>\n",
       "    <tr>\n",
       "      <td>1</td>\n",
       "      <td>1</td>\n",
       "      <td>smart</td>\n",
       "      <td>1032</td>\n",
       "      <td>Ульяновск</td>\n",
       "      <td>61</td>\n",
       "      <td>397</td>\n",
       "      <td>38</td>\n",
       "      <td>24158.0</td>\n",
       "      <td>-103</td>\n",
       "      <td>-12</td>\n",
       "      <td>8798.0</td>\n",
       "      <td>1718.359375</td>\n",
       "      <td>2268.359375</td>\n",
       "    </tr>\n",
       "    <tr>\n",
       "      <td>2</td>\n",
       "      <td>1</td>\n",
       "      <td>smart</td>\n",
       "      <td>1045</td>\n",
       "      <td>Улан-Удэ</td>\n",
       "      <td>1</td>\n",
       "      <td>9</td>\n",
       "      <td>5</td>\n",
       "      <td>2348.0</td>\n",
       "      <td>-491</td>\n",
       "      <td>-45</td>\n",
       "      <td>-13012.0</td>\n",
       "      <td>0.000000</td>\n",
       "      <td>550.000000</td>\n",
       "    </tr>\n",
       "    <tr>\n",
       "      <td>3</td>\n",
       "      <td>1</td>\n",
       "      <td>smart</td>\n",
       "      <td>1055</td>\n",
       "      <td>Казань</td>\n",
       "      <td>64</td>\n",
       "      <td>568</td>\n",
       "      <td>30</td>\n",
       "      <td>17115.0</td>\n",
       "      <td>68</td>\n",
       "      <td>-20</td>\n",
       "      <td>1755.0</td>\n",
       "      <td>546.773438</td>\n",
       "      <td>1096.773438</td>\n",
       "    </tr>\n",
       "    <tr>\n",
       "      <td>4</td>\n",
       "      <td>1</td>\n",
       "      <td>smart</td>\n",
       "      <td>1071</td>\n",
       "      <td>Омск</td>\n",
       "      <td>24</td>\n",
       "      <td>200</td>\n",
       "      <td>16</td>\n",
       "      <td>15625.0</td>\n",
       "      <td>-300</td>\n",
       "      <td>-34</td>\n",
       "      <td>265.0</td>\n",
       "      <td>51.757812</td>\n",
       "      <td>601.757812</td>\n",
       "    </tr>\n",
       "  </tbody>\n",
       "</table>\n",
       "</div>"
      ],
      "text/plain": [
       "   month tariff  user_id              city  calls  minutes  messages  mb_used  \\\n",
       "0      1  smart     1005  Набережные Челны     15       99         7   2730.0   \n",
       "1      1  smart     1032         Ульяновск     61      397        38  24158.0   \n",
       "2      1  smart     1045          Улан-Удэ      1        9         5   2348.0   \n",
       "3      1  smart     1055            Казань     64      568        30  17115.0   \n",
       "4      1  smart     1071              Омск     24      200        16  15625.0   \n",
       "\n",
       "   minutes_over  messages_over  mb_used_over  rub_monthly_fee_over  \\\n",
       "0          -401            -43      -12630.0              0.000000   \n",
       "1          -103            -12        8798.0           1718.359375   \n",
       "2          -491            -45      -13012.0              0.000000   \n",
       "3            68            -20        1755.0            546.773438   \n",
       "4          -300            -34         265.0             51.757812   \n",
       "\n",
       "   rub_monthly_fee_total  \n",
       "0             550.000000  \n",
       "1            2268.359375  \n",
       "2             550.000000  \n",
       "3            1096.773438  \n",
       "4             601.757812  "
      ]
     },
     "execution_count": 384,
     "metadata": {},
     "output_type": "execute_result"
    }
   ],
   "source": [
    "total.head()"
   ]
  },
  {
   "cell_type": "markdown",
   "metadata": {},
   "source": [
    "<div style=\"border:solid green 2px; padding: 20px\"> <h1 style=\"color:green; margin-bottom:20px\">Комментарий наставника</h1>\n",
    "\n",
    "Этап предобработки закончен, со всеми действиями и выводами согласен, замечательно. Так же порадовало что всё делишь на отдельные ячейки и пишешь выводы, можно приступать к основной части анализа</div>"
   ]
  },
  {
   "cell_type": "markdown",
   "metadata": {},
   "source": [
    "# Шаг 3. Проанализируйте данные"
   ]
  },
  {
   "cell_type": "code",
   "execution_count": 391,
   "metadata": {},
   "outputs": [],
   "source": [
    "values = ['minutes', 'messages', 'mb_used', 'rub_monthly_fee_over', 'rub_monthly_fee_total']\n"
   ]
  },
  {
   "cell_type": "code",
   "execution_count": null,
   "metadata": {},
   "outputs": [],
   "source": []
  },
  {
   "cell_type": "code",
   "execution_count": 395,
   "metadata": {},
   "outputs": [],
   "source": [
    "tariff_monthly_costs = total.pivot_table(\n",
    "    index=['tariff', 'month'],\n",
    "    values=values\n",
    ")"
   ]
  },
  {
   "cell_type": "code",
   "execution_count": 396,
   "metadata": {},
   "outputs": [
    {
     "data": {
      "text/html": [
       "<div>\n",
       "<style scoped>\n",
       "    .dataframe tbody tr th:only-of-type {\n",
       "        vertical-align: middle;\n",
       "    }\n",
       "\n",
       "    .dataframe tbody tr th {\n",
       "        vertical-align: top;\n",
       "    }\n",
       "\n",
       "    .dataframe thead th {\n",
       "        text-align: right;\n",
       "    }\n",
       "</style>\n",
       "<table border=\"1\" class=\"dataframe\">\n",
       "  <thead>\n",
       "    <tr style=\"text-align: right;\">\n",
       "      <th></th>\n",
       "      <th></th>\n",
       "      <th>mb_used</th>\n",
       "      <th>messages</th>\n",
       "      <th>minutes</th>\n",
       "      <th>rub_monthly_fee_over</th>\n",
       "      <th>rub_monthly_fee_total</th>\n",
       "    </tr>\n",
       "    <tr>\n",
       "      <th>tariff</th>\n",
       "      <th>month</th>\n",
       "      <th></th>\n",
       "      <th></th>\n",
       "      <th></th>\n",
       "      <th></th>\n",
       "      <th></th>\n",
       "    </tr>\n",
       "  </thead>\n",
       "  <tbody>\n",
       "    <tr>\n",
       "      <td rowspan=\"12\" valign=\"top\">smart</td>\n",
       "      <td>1</td>\n",
       "      <td>8528.588235</td>\n",
       "      <td>18.235294</td>\n",
       "      <td>209.647059</td>\n",
       "      <td>154.895910</td>\n",
       "      <td>704.895910</td>\n",
       "    </tr>\n",
       "    <tr>\n",
       "      <td>2</td>\n",
       "      <td>11617.344828</td>\n",
       "      <td>24.086207</td>\n",
       "      <td>306.310345</td>\n",
       "      <td>262.159752</td>\n",
       "      <td>812.159752</td>\n",
       "    </tr>\n",
       "    <tr>\n",
       "      <td>3</td>\n",
       "      <td>15131.207792</td>\n",
       "      <td>31.857143</td>\n",
       "      <td>400.532468</td>\n",
       "      <td>583.213271</td>\n",
       "      <td>1133.213271</td>\n",
       "    </tr>\n",
       "    <tr>\n",
       "      <td>4</td>\n",
       "      <td>13486.080357</td>\n",
       "      <td>30.741071</td>\n",
       "      <td>377.000000</td>\n",
       "      <td>384.781878</td>\n",
       "      <td>934.781878</td>\n",
       "    </tr>\n",
       "    <tr>\n",
       "      <td>5</td>\n",
       "      <td>15832.751773</td>\n",
       "      <td>33.773050</td>\n",
       "      <td>398.404255</td>\n",
       "      <td>611.004377</td>\n",
       "      <td>1161.004377</td>\n",
       "    </tr>\n",
       "    <tr>\n",
       "      <td>6</td>\n",
       "      <td>15822.445122</td>\n",
       "      <td>33.402439</td>\n",
       "      <td>406.701220</td>\n",
       "      <td>614.601038</td>\n",
       "      <td>1164.601038</td>\n",
       "    </tr>\n",
       "    <tr>\n",
       "      <td>7</td>\n",
       "      <td>15771.398010</td>\n",
       "      <td>33.751244</td>\n",
       "      <td>419.288557</td>\n",
       "      <td>635.629392</td>\n",
       "      <td>1185.629392</td>\n",
       "    </tr>\n",
       "    <tr>\n",
       "      <td>8</td>\n",
       "      <td>16711.324786</td>\n",
       "      <td>33.638298</td>\n",
       "      <td>433.191489</td>\n",
       "      <td>726.647008</td>\n",
       "      <td>1276.647008</td>\n",
       "    </tr>\n",
       "    <tr>\n",
       "      <td>9</td>\n",
       "      <td>16332.615385</td>\n",
       "      <td>33.638462</td>\n",
       "      <td>440.080769</td>\n",
       "      <td>667.753456</td>\n",
       "      <td>1217.753456</td>\n",
       "    </tr>\n",
       "    <tr>\n",
       "      <td>10</td>\n",
       "      <td>16786.853741</td>\n",
       "      <td>33.765306</td>\n",
       "      <td>438.295918</td>\n",
       "      <td>773.870669</td>\n",
       "      <td>1323.870669</td>\n",
       "    </tr>\n",
       "    <tr>\n",
       "      <td>11</td>\n",
       "      <td>16925.962025</td>\n",
       "      <td>34.075949</td>\n",
       "      <td>447.620253</td>\n",
       "      <td>754.095703</td>\n",
       "      <td>1304.095703</td>\n",
       "    </tr>\n",
       "    <tr>\n",
       "      <td>12</td>\n",
       "      <td>18145.824926</td>\n",
       "      <td>35.994065</td>\n",
       "      <td>491.418398</td>\n",
       "      <td>979.434927</td>\n",
       "      <td>1529.434927</td>\n",
       "    </tr>\n",
       "    <tr>\n",
       "      <td rowspan=\"12\" valign=\"top\">ultra</td>\n",
       "      <td>1</td>\n",
       "      <td>13154.666667</td>\n",
       "      <td>33.777778</td>\n",
       "      <td>440.888889</td>\n",
       "      <td>0.000000</td>\n",
       "      <td>1950.000000</td>\n",
       "    </tr>\n",
       "    <tr>\n",
       "      <td>2</td>\n",
       "      <td>12860.000000</td>\n",
       "      <td>21.958333</td>\n",
       "      <td>304.666667</td>\n",
       "      <td>23.095703</td>\n",
       "      <td>1973.095703</td>\n",
       "    </tr>\n",
       "    <tr>\n",
       "      <td>3</td>\n",
       "      <td>17553.513514</td>\n",
       "      <td>32.297297</td>\n",
       "      <td>503.081081</td>\n",
       "      <td>54.254645</td>\n",
       "      <td>2004.254645</td>\n",
       "    </tr>\n",
       "    <tr>\n",
       "      <td>4</td>\n",
       "      <td>16845.254545</td>\n",
       "      <td>31.563636</td>\n",
       "      <td>470.072727</td>\n",
       "      <td>45.474077</td>\n",
       "      <td>1995.474077</td>\n",
       "    </tr>\n",
       "    <tr>\n",
       "      <td>5</td>\n",
       "      <td>19676.878788</td>\n",
       "      <td>37.850746</td>\n",
       "      <td>524.865672</td>\n",
       "      <td>105.022738</td>\n",
       "      <td>2055.022738</td>\n",
       "    </tr>\n",
       "    <tr>\n",
       "      <td>6</td>\n",
       "      <td>19172.168675</td>\n",
       "      <td>41.726190</td>\n",
       "      <td>492.428571</td>\n",
       "      <td>82.109724</td>\n",
       "      <td>2032.109724</td>\n",
       "    </tr>\n",
       "    <tr>\n",
       "      <td>7</td>\n",
       "      <td>20744.533333</td>\n",
       "      <td>49.846154</td>\n",
       "      <td>560.296703</td>\n",
       "      <td>158.562092</td>\n",
       "      <td>2108.562092</td>\n",
       "    </tr>\n",
       "    <tr>\n",
       "      <td>8</td>\n",
       "      <td>19780.745283</td>\n",
       "      <td>48.439252</td>\n",
       "      <td>524.570093</td>\n",
       "      <td>121.230195</td>\n",
       "      <td>2071.230195</td>\n",
       "    </tr>\n",
       "    <tr>\n",
       "      <td>9</td>\n",
       "      <td>19392.675439</td>\n",
       "      <td>52.286957</td>\n",
       "      <td>553.643478</td>\n",
       "      <td>63.776749</td>\n",
       "      <td>2013.776749</td>\n",
       "    </tr>\n",
       "    <tr>\n",
       "      <td>10</td>\n",
       "      <td>20230.008197</td>\n",
       "      <td>58.430894</td>\n",
       "      <td>572.829268</td>\n",
       "      <td>106.975276</td>\n",
       "      <td>2056.975276</td>\n",
       "    </tr>\n",
       "    <tr>\n",
       "      <td>11</td>\n",
       "      <td>19956.052632</td>\n",
       "      <td>55.791045</td>\n",
       "      <td>555.805970</td>\n",
       "      <td>130.850994</td>\n",
       "      <td>2080.850994</td>\n",
       "    </tr>\n",
       "    <tr>\n",
       "      <td>12</td>\n",
       "      <td>21973.768116</td>\n",
       "      <td>60.611511</td>\n",
       "      <td>609.129496</td>\n",
       "      <td>176.322926</td>\n",
       "      <td>2126.322926</td>\n",
       "    </tr>\n",
       "  </tbody>\n",
       "</table>\n",
       "</div>"
      ],
      "text/plain": [
       "                   mb_used   messages     minutes  rub_monthly_fee_over  \\\n",
       "tariff month                                                              \n",
       "smart  1       8528.588235  18.235294  209.647059            154.895910   \n",
       "       2      11617.344828  24.086207  306.310345            262.159752   \n",
       "       3      15131.207792  31.857143  400.532468            583.213271   \n",
       "       4      13486.080357  30.741071  377.000000            384.781878   \n",
       "       5      15832.751773  33.773050  398.404255            611.004377   \n",
       "       6      15822.445122  33.402439  406.701220            614.601038   \n",
       "       7      15771.398010  33.751244  419.288557            635.629392   \n",
       "       8      16711.324786  33.638298  433.191489            726.647008   \n",
       "       9      16332.615385  33.638462  440.080769            667.753456   \n",
       "       10     16786.853741  33.765306  438.295918            773.870669   \n",
       "       11     16925.962025  34.075949  447.620253            754.095703   \n",
       "       12     18145.824926  35.994065  491.418398            979.434927   \n",
       "ultra  1      13154.666667  33.777778  440.888889              0.000000   \n",
       "       2      12860.000000  21.958333  304.666667             23.095703   \n",
       "       3      17553.513514  32.297297  503.081081             54.254645   \n",
       "       4      16845.254545  31.563636  470.072727             45.474077   \n",
       "       5      19676.878788  37.850746  524.865672            105.022738   \n",
       "       6      19172.168675  41.726190  492.428571             82.109724   \n",
       "       7      20744.533333  49.846154  560.296703            158.562092   \n",
       "       8      19780.745283  48.439252  524.570093            121.230195   \n",
       "       9      19392.675439  52.286957  553.643478             63.776749   \n",
       "       10     20230.008197  58.430894  572.829268            106.975276   \n",
       "       11     19956.052632  55.791045  555.805970            130.850994   \n",
       "       12     21973.768116  60.611511  609.129496            176.322926   \n",
       "\n",
       "              rub_monthly_fee_total  \n",
       "tariff month                         \n",
       "smart  1                 704.895910  \n",
       "       2                 812.159752  \n",
       "       3                1133.213271  \n",
       "       4                 934.781878  \n",
       "       5                1161.004377  \n",
       "       6                1164.601038  \n",
       "       7                1185.629392  \n",
       "       8                1276.647008  \n",
       "       9                1217.753456  \n",
       "       10               1323.870669  \n",
       "       11               1304.095703  \n",
       "       12               1529.434927  \n",
       "ultra  1                1950.000000  \n",
       "       2                1973.095703  \n",
       "       3                2004.254645  \n",
       "       4                1995.474077  \n",
       "       5                2055.022738  \n",
       "       6                2032.109724  \n",
       "       7                2108.562092  \n",
       "       8                2071.230195  \n",
       "       9                2013.776749  \n",
       "       10               2056.975276  \n",
       "       11               2080.850994  \n",
       "       12               2126.322926  "
      ]
     },
     "execution_count": 396,
     "metadata": {},
     "output_type": "execute_result"
    }
   ],
   "source": [
    "tariff_monthly_costs"
   ]
  },
  {
   "cell_type": "code",
   "execution_count": 397,
   "metadata": {},
   "outputs": [
    {
     "data": {
      "text/html": [
       "<div>\n",
       "<style scoped>\n",
       "    .dataframe tbody tr th:only-of-type {\n",
       "        vertical-align: middle;\n",
       "    }\n",
       "\n",
       "    .dataframe tbody tr th {\n",
       "        vertical-align: top;\n",
       "    }\n",
       "\n",
       "    .dataframe thead th {\n",
       "        text-align: right;\n",
       "    }\n",
       "</style>\n",
       "<table border=\"1\" class=\"dataframe\">\n",
       "  <thead>\n",
       "    <tr style=\"text-align: right;\">\n",
       "      <th></th>\n",
       "      <th>mb_used</th>\n",
       "      <th>messages</th>\n",
       "      <th>minutes</th>\n",
       "      <th>rub_monthly_fee_over</th>\n",
       "      <th>rub_monthly_fee_total</th>\n",
       "    </tr>\n",
       "    <tr>\n",
       "      <th>month</th>\n",
       "      <th></th>\n",
       "      <th></th>\n",
       "      <th></th>\n",
       "      <th></th>\n",
       "      <th></th>\n",
       "    </tr>\n",
       "  </thead>\n",
       "  <tbody>\n",
       "    <tr>\n",
       "      <td>1</td>\n",
       "      <td>8528.588235</td>\n",
       "      <td>18.235294</td>\n",
       "      <td>209.647059</td>\n",
       "      <td>154.895910</td>\n",
       "      <td>704.895910</td>\n",
       "    </tr>\n",
       "    <tr>\n",
       "      <td>2</td>\n",
       "      <td>11617.344828</td>\n",
       "      <td>24.086207</td>\n",
       "      <td>306.310345</td>\n",
       "      <td>262.159752</td>\n",
       "      <td>812.159752</td>\n",
       "    </tr>\n",
       "    <tr>\n",
       "      <td>3</td>\n",
       "      <td>15131.207792</td>\n",
       "      <td>31.857143</td>\n",
       "      <td>400.532468</td>\n",
       "      <td>583.213271</td>\n",
       "      <td>1133.213271</td>\n",
       "    </tr>\n",
       "    <tr>\n",
       "      <td>4</td>\n",
       "      <td>13486.080357</td>\n",
       "      <td>30.741071</td>\n",
       "      <td>377.000000</td>\n",
       "      <td>384.781878</td>\n",
       "      <td>934.781878</td>\n",
       "    </tr>\n",
       "    <tr>\n",
       "      <td>5</td>\n",
       "      <td>15832.751773</td>\n",
       "      <td>33.773050</td>\n",
       "      <td>398.404255</td>\n",
       "      <td>611.004377</td>\n",
       "      <td>1161.004377</td>\n",
       "    </tr>\n",
       "    <tr>\n",
       "      <td>6</td>\n",
       "      <td>15822.445122</td>\n",
       "      <td>33.402439</td>\n",
       "      <td>406.701220</td>\n",
       "      <td>614.601038</td>\n",
       "      <td>1164.601038</td>\n",
       "    </tr>\n",
       "    <tr>\n",
       "      <td>7</td>\n",
       "      <td>15771.398010</td>\n",
       "      <td>33.751244</td>\n",
       "      <td>419.288557</td>\n",
       "      <td>635.629392</td>\n",
       "      <td>1185.629392</td>\n",
       "    </tr>\n",
       "    <tr>\n",
       "      <td>8</td>\n",
       "      <td>16711.324786</td>\n",
       "      <td>33.638298</td>\n",
       "      <td>433.191489</td>\n",
       "      <td>726.647008</td>\n",
       "      <td>1276.647008</td>\n",
       "    </tr>\n",
       "    <tr>\n",
       "      <td>9</td>\n",
       "      <td>16332.615385</td>\n",
       "      <td>33.638462</td>\n",
       "      <td>440.080769</td>\n",
       "      <td>667.753456</td>\n",
       "      <td>1217.753456</td>\n",
       "    </tr>\n",
       "    <tr>\n",
       "      <td>10</td>\n",
       "      <td>16786.853741</td>\n",
       "      <td>33.765306</td>\n",
       "      <td>438.295918</td>\n",
       "      <td>773.870669</td>\n",
       "      <td>1323.870669</td>\n",
       "    </tr>\n",
       "    <tr>\n",
       "      <td>11</td>\n",
       "      <td>16925.962025</td>\n",
       "      <td>34.075949</td>\n",
       "      <td>447.620253</td>\n",
       "      <td>754.095703</td>\n",
       "      <td>1304.095703</td>\n",
       "    </tr>\n",
       "    <tr>\n",
       "      <td>12</td>\n",
       "      <td>18145.824926</td>\n",
       "      <td>35.994065</td>\n",
       "      <td>491.418398</td>\n",
       "      <td>979.434927</td>\n",
       "      <td>1529.434927</td>\n",
       "    </tr>\n",
       "  </tbody>\n",
       "</table>\n",
       "</div>"
      ],
      "text/plain": [
       "            mb_used   messages     minutes  rub_monthly_fee_over  \\\n",
       "month                                                              \n",
       "1       8528.588235  18.235294  209.647059            154.895910   \n",
       "2      11617.344828  24.086207  306.310345            262.159752   \n",
       "3      15131.207792  31.857143  400.532468            583.213271   \n",
       "4      13486.080357  30.741071  377.000000            384.781878   \n",
       "5      15832.751773  33.773050  398.404255            611.004377   \n",
       "6      15822.445122  33.402439  406.701220            614.601038   \n",
       "7      15771.398010  33.751244  419.288557            635.629392   \n",
       "8      16711.324786  33.638298  433.191489            726.647008   \n",
       "9      16332.615385  33.638462  440.080769            667.753456   \n",
       "10     16786.853741  33.765306  438.295918            773.870669   \n",
       "11     16925.962025  34.075949  447.620253            754.095703   \n",
       "12     18145.824926  35.994065  491.418398            979.434927   \n",
       "\n",
       "       rub_monthly_fee_total  \n",
       "month                         \n",
       "1                 704.895910  \n",
       "2                 812.159752  \n",
       "3                1133.213271  \n",
       "4                 934.781878  \n",
       "5                1161.004377  \n",
       "6                1164.601038  \n",
       "7                1185.629392  \n",
       "8                1276.647008  \n",
       "9                1217.753456  \n",
       "10               1323.870669  \n",
       "11               1304.095703  \n",
       "12               1529.434927  "
      ]
     },
     "execution_count": 397,
     "metadata": {},
     "output_type": "execute_result"
    }
   ],
   "source": [
    "smart_monthly_costs = tariff_monthly_costs.loc['smart']\n",
    "smart_monthly_costs"
   ]
  },
  {
   "cell_type": "code",
   "execution_count": 398,
   "metadata": {},
   "outputs": [
    {
     "data": {
      "text/html": [
       "<div>\n",
       "<style scoped>\n",
       "    .dataframe tbody tr th:only-of-type {\n",
       "        vertical-align: middle;\n",
       "    }\n",
       "\n",
       "    .dataframe tbody tr th {\n",
       "        vertical-align: top;\n",
       "    }\n",
       "\n",
       "    .dataframe thead th {\n",
       "        text-align: right;\n",
       "    }\n",
       "</style>\n",
       "<table border=\"1\" class=\"dataframe\">\n",
       "  <thead>\n",
       "    <tr style=\"text-align: right;\">\n",
       "      <th></th>\n",
       "      <th>mb_used</th>\n",
       "      <th>messages</th>\n",
       "      <th>minutes</th>\n",
       "      <th>rub_monthly_fee_over</th>\n",
       "      <th>rub_monthly_fee_total</th>\n",
       "    </tr>\n",
       "    <tr>\n",
       "      <th>month</th>\n",
       "      <th></th>\n",
       "      <th></th>\n",
       "      <th></th>\n",
       "      <th></th>\n",
       "      <th></th>\n",
       "    </tr>\n",
       "  </thead>\n",
       "  <tbody>\n",
       "    <tr>\n",
       "      <td>1</td>\n",
       "      <td>13154.666667</td>\n",
       "      <td>33.777778</td>\n",
       "      <td>440.888889</td>\n",
       "      <td>0.000000</td>\n",
       "      <td>1950.000000</td>\n",
       "    </tr>\n",
       "    <tr>\n",
       "      <td>2</td>\n",
       "      <td>12860.000000</td>\n",
       "      <td>21.958333</td>\n",
       "      <td>304.666667</td>\n",
       "      <td>23.095703</td>\n",
       "      <td>1973.095703</td>\n",
       "    </tr>\n",
       "    <tr>\n",
       "      <td>3</td>\n",
       "      <td>17553.513514</td>\n",
       "      <td>32.297297</td>\n",
       "      <td>503.081081</td>\n",
       "      <td>54.254645</td>\n",
       "      <td>2004.254645</td>\n",
       "    </tr>\n",
       "    <tr>\n",
       "      <td>4</td>\n",
       "      <td>16845.254545</td>\n",
       "      <td>31.563636</td>\n",
       "      <td>470.072727</td>\n",
       "      <td>45.474077</td>\n",
       "      <td>1995.474077</td>\n",
       "    </tr>\n",
       "    <tr>\n",
       "      <td>5</td>\n",
       "      <td>19676.878788</td>\n",
       "      <td>37.850746</td>\n",
       "      <td>524.865672</td>\n",
       "      <td>105.022738</td>\n",
       "      <td>2055.022738</td>\n",
       "    </tr>\n",
       "    <tr>\n",
       "      <td>6</td>\n",
       "      <td>19172.168675</td>\n",
       "      <td>41.726190</td>\n",
       "      <td>492.428571</td>\n",
       "      <td>82.109724</td>\n",
       "      <td>2032.109724</td>\n",
       "    </tr>\n",
       "    <tr>\n",
       "      <td>7</td>\n",
       "      <td>20744.533333</td>\n",
       "      <td>49.846154</td>\n",
       "      <td>560.296703</td>\n",
       "      <td>158.562092</td>\n",
       "      <td>2108.562092</td>\n",
       "    </tr>\n",
       "    <tr>\n",
       "      <td>8</td>\n",
       "      <td>19780.745283</td>\n",
       "      <td>48.439252</td>\n",
       "      <td>524.570093</td>\n",
       "      <td>121.230195</td>\n",
       "      <td>2071.230195</td>\n",
       "    </tr>\n",
       "    <tr>\n",
       "      <td>9</td>\n",
       "      <td>19392.675439</td>\n",
       "      <td>52.286957</td>\n",
       "      <td>553.643478</td>\n",
       "      <td>63.776749</td>\n",
       "      <td>2013.776749</td>\n",
       "    </tr>\n",
       "    <tr>\n",
       "      <td>10</td>\n",
       "      <td>20230.008197</td>\n",
       "      <td>58.430894</td>\n",
       "      <td>572.829268</td>\n",
       "      <td>106.975276</td>\n",
       "      <td>2056.975276</td>\n",
       "    </tr>\n",
       "    <tr>\n",
       "      <td>11</td>\n",
       "      <td>19956.052632</td>\n",
       "      <td>55.791045</td>\n",
       "      <td>555.805970</td>\n",
       "      <td>130.850994</td>\n",
       "      <td>2080.850994</td>\n",
       "    </tr>\n",
       "    <tr>\n",
       "      <td>12</td>\n",
       "      <td>21973.768116</td>\n",
       "      <td>60.611511</td>\n",
       "      <td>609.129496</td>\n",
       "      <td>176.322926</td>\n",
       "      <td>2126.322926</td>\n",
       "    </tr>\n",
       "  </tbody>\n",
       "</table>\n",
       "</div>"
      ],
      "text/plain": [
       "            mb_used   messages     minutes  rub_monthly_fee_over  \\\n",
       "month                                                              \n",
       "1      13154.666667  33.777778  440.888889              0.000000   \n",
       "2      12860.000000  21.958333  304.666667             23.095703   \n",
       "3      17553.513514  32.297297  503.081081             54.254645   \n",
       "4      16845.254545  31.563636  470.072727             45.474077   \n",
       "5      19676.878788  37.850746  524.865672            105.022738   \n",
       "6      19172.168675  41.726190  492.428571             82.109724   \n",
       "7      20744.533333  49.846154  560.296703            158.562092   \n",
       "8      19780.745283  48.439252  524.570093            121.230195   \n",
       "9      19392.675439  52.286957  553.643478             63.776749   \n",
       "10     20230.008197  58.430894  572.829268            106.975276   \n",
       "11     19956.052632  55.791045  555.805970            130.850994   \n",
       "12     21973.768116  60.611511  609.129496            176.322926   \n",
       "\n",
       "       rub_monthly_fee_total  \n",
       "month                         \n",
       "1                1950.000000  \n",
       "2                1973.095703  \n",
       "3                2004.254645  \n",
       "4                1995.474077  \n",
       "5                2055.022738  \n",
       "6                2032.109724  \n",
       "7                2108.562092  \n",
       "8                2071.230195  \n",
       "9                2013.776749  \n",
       "10               2056.975276  \n",
       "11               2080.850994  \n",
       "12               2126.322926  "
      ]
     },
     "execution_count": 398,
     "metadata": {},
     "output_type": "execute_result"
    }
   ],
   "source": [
    "ultra_monthly_costs = tariff_monthly_costs.loc['ultra']\n",
    "ultra_monthly_costs"
   ]
  },
  {
   "cell_type": "code",
   "execution_count": 399,
   "metadata": {},
   "outputs": [
    {
     "data": {
      "text/html": [
       "<div>\n",
       "<style scoped>\n",
       "    .dataframe tbody tr th:only-of-type {\n",
       "        vertical-align: middle;\n",
       "    }\n",
       "\n",
       "    .dataframe tbody tr th {\n",
       "        vertical-align: top;\n",
       "    }\n",
       "\n",
       "    .dataframe thead th {\n",
       "        text-align: right;\n",
       "    }\n",
       "</style>\n",
       "<table border=\"1\" class=\"dataframe\">\n",
       "  <thead>\n",
       "    <tr style=\"text-align: right;\">\n",
       "      <th></th>\n",
       "      <th>mb_used</th>\n",
       "      <th>messages</th>\n",
       "      <th>minutes</th>\n",
       "      <th>rub_monthly_fee_over</th>\n",
       "      <th>rub_monthly_fee_total</th>\n",
       "    </tr>\n",
       "    <tr>\n",
       "      <th>tariff</th>\n",
       "      <th></th>\n",
       "      <th></th>\n",
       "      <th></th>\n",
       "      <th></th>\n",
       "      <th></th>\n",
       "    </tr>\n",
       "  </thead>\n",
       "  <tbody>\n",
       "    <tr>\n",
       "      <td>smart</td>\n",
       "      <td>15091.033082</td>\n",
       "      <td>31.413211</td>\n",
       "      <td>397.374228</td>\n",
       "      <td>595.673948</td>\n",
       "      <td>1145.673948</td>\n",
       "    </tr>\n",
       "    <tr>\n",
       "      <td>ultra</td>\n",
       "      <td>18445.022099</td>\n",
       "      <td>43.714983</td>\n",
       "      <td>509.356551</td>\n",
       "      <td>88.972927</td>\n",
       "      <td>2038.972927</td>\n",
       "    </tr>\n",
       "  </tbody>\n",
       "</table>\n",
       "</div>"
      ],
      "text/plain": [
       "             mb_used   messages     minutes  rub_monthly_fee_over  \\\n",
       "tariff                                                              \n",
       "smart   15091.033082  31.413211  397.374228            595.673948   \n",
       "ultra   18445.022099  43.714983  509.356551             88.972927   \n",
       "\n",
       "        rub_monthly_fee_total  \n",
       "tariff                         \n",
       "smart             1145.673948  \n",
       "ultra             2038.972927  "
      ]
     },
     "execution_count": 399,
     "metadata": {},
     "output_type": "execute_result"
    }
   ],
   "source": [
    "tariff_usage = tariff_monthly_costs.pivot_table(\n",
    "    index='tariff',\n",
    "    values=values\n",
    ")\n",
    "tariff_usage"
   ]
  },
  {
   "cell_type": "markdown",
   "metadata": {},
   "source": [
    "Минуты разговора, количество сообщений и объём интернет-трафика в среднем необходимые пользователям каждого тарифа в месяц\n"
   ]
  },
  {
   "cell_type": "markdown",
   "metadata": {},
   "source": [
    "### Вывод\n",
    "-  Пользователи тарифа Ультра более активны\n",
    "-  пользователи тарифа Смарт тратят в среднем в 6 раз больше на дополнительные пакеты услуг. \n",
    "-  Оператору больше денег приносит тариф Ультра, даже с учетом того, что в среднем пользователи не выходят за границы тарифных лимитов, а пользователи тарифа Смарт не тратят столько денег, чтобы перегнать стоимость тарифа Ультра.\n",
    "- Таким образом, для пользователя выгоднее тариф Смарт"
   ]
  },
  {
   "cell_type": "code",
   "execution_count": 400,
   "metadata": {},
   "outputs": [],
   "source": [
    "moscow = total['city'] == 'Москва'\n",
    "total['city'].where(moscow, 'Другой регион', inplace=True)\n",
    "\n",
    "city_monthly_costs = total.pivot_table(\n",
    "    index=['city', 'month'],\n",
    "    values=values\n",
    ")"
   ]
  },
  {
   "cell_type": "code",
   "execution_count": 402,
   "metadata": {},
   "outputs": [
    {
     "data": {
      "text/html": [
       "<div>\n",
       "<style scoped>\n",
       "    .dataframe tbody tr th:only-of-type {\n",
       "        vertical-align: middle;\n",
       "    }\n",
       "\n",
       "    .dataframe tbody tr th {\n",
       "        vertical-align: top;\n",
       "    }\n",
       "\n",
       "    .dataframe thead th {\n",
       "        text-align: right;\n",
       "    }\n",
       "</style>\n",
       "<table border=\"1\" class=\"dataframe\">\n",
       "  <thead>\n",
       "    <tr style=\"text-align: right;\">\n",
       "      <th></th>\n",
       "      <th>mb_used</th>\n",
       "      <th>messages</th>\n",
       "      <th>minutes</th>\n",
       "      <th>rub_monthly_fee_over</th>\n",
       "      <th>rub_monthly_fee_total</th>\n",
       "    </tr>\n",
       "    <tr>\n",
       "      <th>city</th>\n",
       "      <th></th>\n",
       "      <th></th>\n",
       "      <th></th>\n",
       "      <th></th>\n",
       "      <th></th>\n",
       "    </tr>\n",
       "  </thead>\n",
       "  <tbody>\n",
       "    <tr>\n",
       "      <td>Другой регион</td>\n",
       "      <td>15758.440143</td>\n",
       "      <td>35.268458</td>\n",
       "      <td>424.594742</td>\n",
       "      <td>451.974045</td>\n",
       "      <td>1398.514093</td>\n",
       "    </tr>\n",
       "    <tr>\n",
       "      <td>Москва</td>\n",
       "      <td>17603.175813</td>\n",
       "      <td>33.944639</td>\n",
       "      <td>455.792652</td>\n",
       "      <td>388.889460</td>\n",
       "      <td>1483.854730</td>\n",
       "    </tr>\n",
       "  </tbody>\n",
       "</table>\n",
       "</div>"
      ],
      "text/plain": [
       "                    mb_used   messages     minutes  rub_monthly_fee_over  \\\n",
       "city                                                                       \n",
       "Другой регион  15758.440143  35.268458  424.594742            451.974045   \n",
       "Москва         17603.175813  33.944639  455.792652            388.889460   \n",
       "\n",
       "               rub_monthly_fee_total  \n",
       "city                                  \n",
       "Другой регион            1398.514093  \n",
       "Москва                   1483.854730  "
      ]
     },
     "execution_count": 402,
     "metadata": {},
     "output_type": "execute_result"
    }
   ],
   "source": [
    "city_usage = city_monthly_costs.pivot_table(\n",
    "    index='city',\n",
    "    values=values\n",
    ")\n",
    "city_usage"
   ]
  },
  {
   "cell_type": "markdown",
   "metadata": {},
   "source": [
    "### Вывод\n",
    "- По средним значениям выручки пользователей Москвы и регионов мы видим, что разница не весомая.\n",
    "- Кол-во использованных минут и смс не практически не отличается\n",
    "- В Москве чуть больше потребляют трафика – ожидаемо с учетом покрытия и скорости"
   ]
  },
  {
   "cell_type": "code",
   "execution_count": 405,
   "metadata": {},
   "outputs": [],
   "source": [
    "smart_costs = total.query(\"tariff == 'smart'\")\n"
   ]
  },
  {
   "cell_type": "code",
   "execution_count": 406,
   "metadata": {},
   "outputs": [
    {
     "data": {
      "text/plain": [
       "count    2229.000000\n",
       "mean      429.450875\n",
       "std       194.871174\n",
       "min         0.000000\n",
       "25%       291.000000\n",
       "50%       435.000000\n",
       "75%       560.000000\n",
       "max      1471.000000\n",
       "Name: minutes, dtype: float64"
      ]
     },
     "execution_count": 406,
     "metadata": {},
     "output_type": "execute_result"
    }
   ],
   "source": [
    "smart_costs['minutes'].describe()\n"
   ]
  },
  {
   "cell_type": "code",
   "execution_count": 408,
   "metadata": {},
   "outputs": [],
   "source": [
    "ultra_costs = total.query(\"tariff == 'ultra'\")\n"
   ]
  },
  {
   "cell_type": "code",
   "execution_count": 409,
   "metadata": {},
   "outputs": [
    {
     "data": {
      "text/plain": [
       "count     985.000000\n",
       "mean      540.779695\n",
       "std       325.738740\n",
       "min         0.000000\n",
       "25%       292.000000\n",
       "50%       532.000000\n",
       "75%       773.000000\n",
       "max      1727.000000\n",
       "Name: minutes, dtype: float64"
      ]
     },
     "execution_count": 409,
     "metadata": {},
     "output_type": "execute_result"
    }
   ],
   "source": [
    "ultra_costs['minutes'].describe()\n"
   ]
  },
  {
   "cell_type": "code",
   "execution_count": 414,
   "metadata": {},
   "outputs": [
    {
     "data": {
      "image/png": "[encoded data removed]",
      "text/plain": [
       "<Figure size 432x288 with 1 Axes>"
      ]
     },
     "metadata": {
      "needs_background": "light"
     },
     "output_type": "display_data"
    }
   ],
   "source": [
    "plt.hist(smart_costs['minutes'], bins=50, label='smart')\n",
    "plt.hist(ultra_costs['minutes'], bins=50, label='ultra', alpha=0.7)\n",
    "plt.legend(loc='upper right')\n",
    "plt.show()"
   ]
  },
  {
   "cell_type": "markdown",
   "metadata": {},
   "source": [
    "<div style=\"border:solid  orange  2px; padding: 20px\"> <h1 style=\"color: orange ; margin-bottom:20px\">Комментарий наставника</h1>\n",
    "\n",
    "не забывай подписывать оси на графиках и указывать название для графика"
   ]
  },
  {
   "cell_type": "code",
   "execution_count": 1,
   "metadata": {},
   "outputs": [
    {
     "ename": "SyntaxError",
     "evalue": "invalid syntax (<ipython-input-1-7e68eda0d2a7>, line 1)",
     "output_type": "error",
     "traceback": [
      "\u001b[0;36m  File \u001b[0;32m\"<ipython-input-1-7e68eda0d2a7>\"\u001b[0;36m, line \u001b[0;32m1\u001b[0m\n\u001b[0;31m    <div style=\"border:solid  orange  2px; padding: 20px\"> <h1 style=\"color: orange ; margin-bottom:20px\">Комментарий наставника</h1>\u001b[0m\n\u001b[0m    ^\u001b[0m\n\u001b[0;31mSyntaxError\u001b[0m\u001b[0;31m:\u001b[0m invalid syntax\n"
     ]
    }
   ],
   "source": [
    "<div style=\"border:solid  orange  2px; padding: 20px\"> <h1 style=\"color: orange ; margin-bottom:20px\">Комментарий наставника</h1>\n",
    "\n",
    "не забывай подписывать оси на графиках и указывать название для графикаsmv = np.var(smart_costs['minutes'], ddof=1)\n",
    "umv = np.var(ultra_costs['minutes'], ddof=1)"
   ]
  },
  {
   "cell_type": "code",
   "execution_count": 423,
   "metadata": {},
   "outputs": [
    {
     "data": {
      "text/plain": [
       "37974.774627825"
      ]
     },
     "execution_count": 423,
     "metadata": {},
     "output_type": "execute_result"
    }
   ],
   "source": [
    "smv"
   ]
  },
  {
   "cell_type": "code",
   "execution_count": 424,
   "metadata": {},
   "outputs": [
    {
     "data": {
      "text/plain": [
       "106105.72682307787"
      ]
     },
     "execution_count": 424,
     "metadata": {},
     "output_type": "execute_result"
    }
   ],
   "source": [
    "umv"
   ]
  },
  {
   "cell_type": "markdown",
   "metadata": {},
   "source": [
    "### Звонки\n",
    "\n",
    "- Смарт станд. отклонение 194.871174  дисперсия 37974.774627825\n",
    "- Ультра стандю отклонение 325.738740 дисперсия 106105.72682307787"
   ]
  },
  {
   "cell_type": "code",
   "execution_count": 425,
   "metadata": {},
   "outputs": [
    {
     "data": {
      "text/plain": [
       "count    2229.000000\n",
       "mean       33.384029\n",
       "std        28.227876\n",
       "min         0.000000\n",
       "25%        10.000000\n",
       "50%        28.000000\n",
       "75%        51.000000\n",
       "max       143.000000\n",
       "Name: messages, dtype: float64"
      ]
     },
     "execution_count": 425,
     "metadata": {},
     "output_type": "execute_result"
    }
   ],
   "source": [
    "smart_costs['messages'].describe()\n"
   ]
  },
  {
   "cell_type": "code",
   "execution_count": 426,
   "metadata": {},
   "outputs": [
    {
     "data": {
      "text/plain": [
       "count    985.000000\n",
       "mean      49.363452\n",
       "std       47.804457\n",
       "min        0.000000\n",
       "25%        6.000000\n",
       "50%       38.000000\n",
       "75%       79.000000\n",
       "max      224.000000\n",
       "Name: messages, dtype: float64"
      ]
     },
     "execution_count": 426,
     "metadata": {},
     "output_type": "execute_result"
    }
   ],
   "source": [
    "ultra_costs['messages'].describe()\n"
   ]
  },
  {
   "cell_type": "code",
   "execution_count": 427,
   "metadata": {},
   "outputs": [
    {
     "data": {
      "image/png": "[encoded data removed]",
      "text/plain": [
       "<Figure size 432x288 with 1 Axes>"
      ]
     },
     "metadata": {
      "needs_background": "light"
     },
     "output_type": "display_data"
    }
   ],
   "source": [
    "plt.hist(smart_costs['messages'], bins=50, label='smart')\n",
    "plt.hist(ultra_costs['messages'], bins=50, label='ultra', alpha=0.7)\n",
    "plt.legend(loc='upper right')\n",
    "plt.show()"
   ]
  },
  {
   "cell_type": "markdown",
   "metadata": {},
   "source": [
    "<div style=\"border:solid  orange  2px; padding: 20px\"> <h1 style=\"color: orange ; margin-bottom:20px\">Комментарий наставника</h1>\n",
    "\n",
    "Графики точно нужно строить детальнее, иначе так из графика не понятно, что изображено, если не залазить в код, а заказчики в будущем точно не будут копать в коде, чтобы понять, что перед ними изображено"
   ]
  },
  {
   "cell_type": "code",
   "execution_count": 428,
   "metadata": {},
   "outputs": [],
   "source": [
    "<div style=\"border:solid  orange  2px; padding: 20px\"> <h1 style=\"color: orange ; margin-bottom:20px\">Комментарий наставника</h1>\n",
    "\n",
    "Графики точно нужно строить детальнее, иначе так из графика не понятно, что изображено, если не залазить в код, а заказчики в будущем точно не будут копать в коде, чтобы понять, что перед ними изображеноssv = np.var(smart_costs['messages'], ddof=1)\n",
    "usv = np.var(ultra_costs['messages'], ddof=1)"
   ]
  },
  {
   "cell_type": "code",
   "execution_count": 429,
   "metadata": {},
   "outputs": [
    {
     "data": {
      "text/plain": [
       "796.8129584480083"
      ]
     },
     "execution_count": 429,
     "metadata": {},
     "output_type": "execute_result"
    }
   ],
   "source": [
    "ssv"
   ]
  },
  {
   "cell_type": "code",
   "execution_count": 430,
   "metadata": {},
   "outputs": [
    {
     "data": {
      "text/plain": [
       "2285.266142544674"
      ]
     },
     "execution_count": 430,
     "metadata": {},
     "output_type": "execute_result"
    }
   ],
   "source": [
    "usv"
   ]
  },
  {
   "cell_type": "markdown",
   "metadata": {},
   "source": [
    "### СМС\n",
    "\n",
    "- Смарт станд. отклонение 28.227876  дисперсия 796.8129584480083\n",
    "- Ультра стандю отклонение 47.804457 дисперсия 2285.266142544674\n"
   ]
  },
  {
   "cell_type": "code",
   "execution_count": 431,
   "metadata": {},
   "outputs": [
    {
     "data": {
      "text/plain": [
       "count     2228.000000\n",
       "mean     16244.472172\n",
       "std       5871.037024\n",
       "min          1.000000\n",
       "25%      12673.250000\n",
       "50%      16541.500000\n",
       "75%      20078.750000\n",
       "max      38627.000000\n",
       "Name: mb_used, dtype: float64"
      ]
     },
     "execution_count": 431,
     "metadata": {},
     "output_type": "execute_result"
    }
   ],
   "source": [
    "smart_costs['mb_used'].describe()\n"
   ]
  },
  {
   "cell_type": "code",
   "execution_count": 432,
   "metadata": {},
   "outputs": [
    {
     "data": {
      "text/plain": [
       "count      975.000000\n",
       "mean     19688.587692\n",
       "std       9952.830482\n",
       "min          1.000000\n",
       "25%      12022.000000\n",
       "50%      19416.000000\n",
       "75%      26921.500000\n",
       "max      49793.000000\n",
       "Name: mb_used, dtype: float64"
      ]
     },
     "execution_count": 432,
     "metadata": {},
     "output_type": "execute_result"
    }
   ],
   "source": [
    "ultra_costs['mb_used'].describe()\n"
   ]
  },
  {
   "cell_type": "code",
   "execution_count": 433,
   "metadata": {},
   "outputs": [
    {
     "name": "stderr",
     "output_type": "stream",
     "text": [
      "/opt/conda/lib/python3.7/site-packages/numpy/lib/histograms.py:839: RuntimeWarning: invalid value encountered in greater_equal\n",
      "  keep = (tmp_a >= first_edge)\n",
      "/opt/conda/lib/python3.7/site-packages/numpy/lib/histograms.py:840: RuntimeWarning: invalid value encountered in less_equal\n",
      "  keep &= (tmp_a <= last_edge)\n"
     ]
    },
    {
     "data": {
      "image/png": "[encoded data removed]",
      "text/plain": [
       "<Figure size 432x288 with 1 Axes>"
      ]
     },
     "metadata": {
      "needs_background": "light"
     },
     "output_type": "display_data"
    }
   ],
   "source": [
    "plt.hist(smart_costs['mb_used'], bins=50, label='smart')\n",
    "plt.hist(ultra_costs['mb_used'], bins=50, label='ultra', alpha=0.7)\n",
    "plt.legend(loc='upper right')\n",
    "plt.show()"
   ]
  },
  {
   "cell_type": "code",
   "execution_count": 434,
   "metadata": {},
   "outputs": [],
   "source": [
    "siv = np.var(smart_costs['mb_used'], ddof=1)\n",
    "uiv = np.var(ultra_costs['mb_used'], ddof=1)"
   ]
  },
  {
   "cell_type": "code",
   "execution_count": 435,
   "metadata": {},
   "outputs": [
    {
     "data": {
      "text/plain": [
       "34469075.73833619"
      ]
     },
     "execution_count": 435,
     "metadata": {},
     "output_type": "execute_result"
    }
   ],
   "source": [
    "siv"
   ]
  },
  {
   "cell_type": "code",
   "execution_count": 436,
   "metadata": {},
   "outputs": [
    {
     "data": {
      "text/plain": [
       "99058834.60600853"
      ]
     },
     "execution_count": 436,
     "metadata": {},
     "output_type": "execute_result"
    }
   ],
   "source": [
    "uiv"
   ]
  },
  {
   "cell_type": "markdown",
   "metadata": {},
   "source": [
    "### Интернет\n",
    "- Смарт станд. отклонение (Мб) 5871.037024 дисперсия 34469075.73833619\n",
    "- Ультра стандю отклонение (Мб) 9952.830482 дисперсия 99058834.60600853"
   ]
  },
  {
   "cell_type": "markdown",
   "metadata": {},
   "source": [
    "<div style=\"border:solid  orange  2px; padding: 20px\"> <h1 style=\"color: orange ; margin-bottom:20px\">Комментарий наставника</h1>\n",
    "\n",
    "Тут всё абсолютно верно, верные выводы, но стоило бы строить больше разнообразных визуализаций, это будет очень важным навыком , который точно пригодится тебе в будущем, так как в любой аналитике графики являются наглядным подтверждением твоих выводов"
   ]
  },
  {
   "cell_type": "markdown",
   "metadata": {},
   "source": [
    "# Шаг 4. Проверьте гипотезы\n"
   ]
  },
  {
   "cell_type": "markdown",
   "metadata": {},
   "source": [
    "Мы рассматриваем две генеральные сопокупности – пользователей разных тарифов мобильного оператора. Проверим две (двусторонние) гипотезы о равенстве среднего двух генеральных совокупностей по взятым из них выборкам. Чтобы понять, различается ли средняя выручка пользователей разных тарифов и населенных пунктов, значима ли разница между средними значениями, проведем статистические тесты."
   ]
  },
  {
   "cell_type": "markdown",
   "metadata": {},
   "source": [
    "### Cредняя выручка пользователей тарифов «Ультра» и «Смарт» различается"
   ]
  },
  {
   "cell_type": "markdown",
   "metadata": {},
   "source": [
    "- Средняя выручка пользователя тарифа \"Смарт\": 1145 руб\n",
    "- Средняя выручка пользователя тарифа \"Ультра\": 2038 руб"
   ]
  },
  {
   "cell_type": "markdown",
   "metadata": {},
   "source": [
    "Нулевая гипотеза - Средняя выручка пользователей тарифов \"Ультра\" и \"Смарт\" не различается\n",
    "\n",
    "альтернативная гипотеза  - Средняя выручка пользователей тарифов \"Ультра\" и \"Смарт\" различается"
   ]
  },
  {
   "cell_type": "code",
   "execution_count": 437,
   "metadata": {},
   "outputs": [
    {
     "name": "stdout",
     "output_type": "stream",
     "text": [
      "p-значение: 8.009674149482176e-180\n",
      "Отвергаем нулевую гипотезу\n"
     ]
    }
   ],
   "source": [
    "alpha = .01\n",
    "\n",
    "results = st.ttest_ind(\n",
    "    smart_costs['rub_monthly_fee_total'], \n",
    "    ultra_costs['rub_monthly_fee_total'])\n",
    "\n",
    "print('p-значение:', results.pvalue)\n",
    "\n",
    "if (results.pvalue < alpha):\n",
    "    print(\"Отвергаем нулевую гипотезу\")\n",
    "else:\n",
    "    print(\"Не получилось отвергнуть нулевую гипотезу\")"
   ]
  },
  {
   "cell_type": "markdown",
   "metadata": {},
   "source": [
    "Средняя выручка по тарифам не одинакова, и практически нулевая вероятность говорит о том, что случайно получить такое отличие в значениях практически не получится. Следовательно, средняя выручка пользователей тарифов \"Ультра\" и \"Смарт\" действительно различается и наша гипотеза подтвердилась"
   ]
  },
  {
   "cell_type": "markdown",
   "metadata": {},
   "source": [
    "### Cредняя выручка пользователей из Москвы отличается от выручки пользователей из других регионов"
   ]
  },
  {
   "cell_type": "markdown",
   "metadata": {},
   "source": [
    "- Средняя выручка пользователей из Москвы: 1483 руб\n",
    "- Средняя выручка пользователей из других регионов: 1398 руб"
   ]
  },
  {
   "cell_type": "markdown",
   "metadata": {},
   "source": [
    "Нулевая гипотеза - Cредняя выручка пользователей из Москвы не отличается от выручки пользователей из других регионов\n",
    "альтернативная гипотеза  - Cредняя выручка пользователей из Москвы отличается от выручки пользователей из других регионов\n"
   ]
  },
  {
   "cell_type": "code",
   "execution_count": 442,
   "metadata": {},
   "outputs": [
    {
     "name": "stdout",
     "output_type": "stream",
     "text": [
      "p-значение: 0.5220687323801865\n",
      "Не получилось отвергнуть нулевую гипотезу\n"
     ]
    }
   ],
   "source": [
    "alpha = .05\n",
    "\n",
    "moscow = total.query(\"city == 'Москва'\")['rub_monthly_fee_total']\n",
    "other_cities = total.query(\"city == 'Другой регион'\")['rub_monthly_fee_total']\n",
    "\n",
    "results = st.ttest_ind(moscow, other_cities)\n",
    "\n",
    "print('p-значение:', results.pvalue)\n",
    "\n",
    "if (results.pvalue < alpha):\n",
    "    print(\"Отвергаем нулевую гипотезу\")\n",
    "else:\n",
    "    print(\"Не получилось отвергнуть нулевую гипотезу\")"
   ]
  },
  {
   "cell_type": "markdown",
   "metadata": {},
   "source": [
    "Полученное значение p-value говорит о том, что хотя средняя выручка пользователей из Москвы и регионов неодинакова, с вероятностью в почти 52% такое различие можно получить случайно. Как мы уже знаем, это слишком большая вероятность, чтобы делать вывод о значимом различии между средними выручками. Таким образом, средняя выручка пользователей из Москвы не отличается от выручки пользователей из других регионов, и наша гипотеза не подтвердилась.\n",
    "\n"
   ]
  },
  {
   "cell_type": "markdown",
   "metadata": {},
   "source": [
    "<div style=\"border:solid green 2px; padding: 20px\"> <h1 style=\"color:green; margin-bottom:20px\">Комментарий наставника</h1>\n",
    "\n",
    "Гипотезы проверены, молодец!)"
   ]
  },
  {
   "cell_type": "markdown",
   "metadata": {},
   "source": [
    "# Шаг 5. Напишите общий вывод\n"
   ]
  },
  {
   "cell_type": "markdown",
   "metadata": {},
   "source": [
    " Потвердилась только первая гипотеза Средняя выручка пользователей тарифов \"Ультра\" и \"Смарт\" различается"
   ]
  },
  {
   "cell_type": "markdown",
   "metadata": {},
   "source": [
    "Более выгоднай тариф:\n",
    "- для оператора Ультра\n",
    "- для пользователя Смарт"
   ]
  },
  {
   "cell_type": "markdown",
   "metadata": {},
   "source": [
    "<div style=\"border:solid  orange  2px; padding: 20px\"> <h1 style=\"color: orange ; margin-bottom:20px\">Комментарий наставника</h1>\n",
    "\n",
    "В выводах стоит отражать все полученные результаты и желательно так же приводить цифры, полученные в ходе выполнения проекта"
   ]
  },
  {
   "cell_type": "markdown",
   "metadata": {},
   "source": [
    "<div style=\"border:solid green 2px; padding: 20px\"> <h1 style=\"color:green; margin-bottom:20px\">Комментарий наставника</h1>\n",
    "\n",
    "Работа принята!) Ты проделал отличную работу и я очень рад, что у тебя всё получается!) Надеюсь так будет и в будущем и ты останешься полностью доволен данным курсом!) Удачи тебе в следующих проектах)"
   ]
  },
  {
   "cell_type": "code",
   "execution_count": null,
   "metadata": {},
   "outputs": [],
   "source": []
  }
 ],
 "metadata": {
  "kernelspec": {
   "display_name": "Python 3",
   "language": "python",
   "name": "python3"
  },
  "language_info": {
   "codemirror_mode": {
    "name": "ipython",
    "version": 3
   },
   "file_extension": ".py",
   "mimetype": "text/x-python",
   "name": "python",
   "nbconvert_exporter": "python",
   "pygments_lexer": "ipython3",
   "version": "3.7.4"
  }
 },
 "nbformat": 4,
 "nbformat_minor": 2
}
